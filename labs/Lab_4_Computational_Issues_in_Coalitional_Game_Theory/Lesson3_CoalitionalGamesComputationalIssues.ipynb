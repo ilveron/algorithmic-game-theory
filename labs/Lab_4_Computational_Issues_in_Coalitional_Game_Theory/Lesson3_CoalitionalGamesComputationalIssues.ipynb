{
  "cells": [
    {
      "cell_type": "markdown",
      "metadata": {
        "id": "SxS2on7oeHqV"
      },
      "source": [
        "# Tackling the computational issues of coalitional game theory\n",
        "\n",
        "In the previous lesson we have learned about transferable utility games.\n",
        "We have seen how to represent coalitional games, we have learned how to check if an outcome is in the core and we have learned to compute the Shapley value, one of the most used and important solution concepts in coalitional game theory.\n",
        "At the same time, we have seen that coalitional game theory is hard: 1) the algorithms to compute the solutions of a game are computationally expensive; and 2) the naive represention of the characteristic function grows exponentially with the number of players.\n",
        "\n",
        "In this lesson, we will see some methods to tackle the computational issues of coalitional game theory.\n",
        "1) We will introduce a particular class of coalitional games which takes the name of *Airport game*. This type of game has a specific characteristic function which allows us to compute the Shapley values exactly with a quadratic algorithm. Despite being a particular type of game, this type of game (as well as other classes of games) is not rare and has real applicability in a number of situations.\n",
        "2) We will study methods to approximate the computation of the Shapley value, including a nice Monte Carlo sampling approximation of the Shapley values, which will allow us to approximate the Shapley values of *any* game in polynomial time! We will use the Airport game here in order to create games with a sufficiently large number of players, where we know the exact Shapley values, to test the approximation methods. These approximation methods are useful in a number of situations where we cannot rely on specific classes of games or when we cannot use other smart representations of the characteristic function of a given game. For instance, the Shapley values computed to explain machine learning models rely on Monte Carlo techniques.\n",
        "3) Finally, we will see two techniques, based on graphs, of *compact representation* of games. These techniques represent the characteristic function in a compact way and take up less space. Now, instead of querying a hash table to find the value of a coalition in $\\mathcal{O}(1)$, we will compute the value of a coalition by summing over the weight of a graph, in polynomial time. These techniques will also allow us to compute the Shapley values, exactly, in polynomial time. The techniques we are going to study are the induced subgraph games, which can represent only certain types of games, and the MC-nets (Marginal Contribution Networks) which extend the induced subgraph games and can represent *any* game."
      ]
    },
    {
      "cell_type": "code",
      "execution_count": 1,
      "metadata": {
        "id": "4qmYuqfFeHqW"
      },
      "outputs": [],
      "source": [
        "# Code from the previous lecture\n",
        "\n",
        "from math import factorial\n",
        "from itertools import combinations\n",
        "\n",
        "# A function to generate the powerset: it returns a list of 2^n frozen sets\n",
        "def powerset(List):\n",
        "    subs = [frozenset(j) for i in range(len(List)) for j in combinations(List, i+1)]\n",
        "    subs += [frozenset()] # The empty set, to represent normalised characteristic function\n",
        "    return subs\n",
        "\n",
        "# A function to compute the Shapley value of a player, given a naive representation of the characteristic function as a dictionary of frozen sets\n",
        "# This function expects a normalised characteristic function: that is, a dictionary containing the couple frozenset():0\n",
        "def shapley_value(player, characteristic_function):\n",
        "    player = set([player])\n",
        "    N = len(max(characteristic_function, key = len))\n",
        "    shapley_val = 0\n",
        "    for coalition in characteristic_function:\n",
        "        S = len(coalition)\n",
        "        marginal_contribution = characteristic_function[coalition] - characteristic_function[coalition - player]\n",
        "        if marginal_contribution:\n",
        "            shapley_val += ((factorial(N - S) * factorial(S - 1)) / factorial(N)) * marginal_contribution\n",
        "    return round(shapley_val, 10)\n",
        "\n",
        "# This function returns a dictionary with the Shapley value for each player\n",
        "def shapley(characteristic_function):\n",
        "    return {player: shapley_value(player, characteristic_function) for player in max(characteristic_function)}"
      ]
    },
    {
      "cell_type": "markdown",
      "metadata": {
        "id": "9OoGP9OueHqX"
      },
      "source": [
        "## The airport game (simplest version)\n",
        "The airport game is a classic example of a fair division problem. That is, a problem where the goal is to divide fairly the cost of a good among a set of players.\n",
        "Specifically, this problem deals with how to distribute the cost of an airport runway among different players who need runways of different lengths.\n",
        "The problem was introduced by S. C. Littlechild and G. Owen in 1973<a name=\"cite_ref-1\"></a>[<sup>[1]</sup>](#cite_note-1). </br>\n",
        "The idea behind this game is the following: suppose that the cost of the runway is €1000 for each km. We have 4 players who need runways of 8, 11, 13, and 18 km, with associated costs €8000, €11000, €13000, nd €18000. A runway of 18km for a total cost of €18000 will serve all the four players. How should they divide the cost in a fair way? Littlechild and Owen provide the following solution:\n",
        "\n",
        "1. Divide the cost associated to the smallest runway equally among the players.\n",
        "2. Divide the *incremental* cost to build the next smallest runaway equally among the remaining players.\n",
        "3. Repeat the process until we have considered all the players.\n",
        "\n",
        "In the aforementioned example, with 4 players, we have the following costs:\n",
        "- Player 1 pays €8000/4 = €2000\n",
        "- Player 2 pays the cost payed by Player 1 plus an increment of (€11000 - €8000)/3 = €3000/3 = €1000. Player 2 pays €2000 + €1000 = €3000 in total.\n",
        "- Player 3 pays the cost payed by Player 2 plus an increment of (€13000 - €11000)/2 = €2000/2 = €1000. Player 3 pays €3000 + €1000 = €4000 in total.\n",
        "- Player 4 pays the cost payed by Player 3 plus an increment of (€18000 - €13000)/2 = €5000. Player 4 pays €4000 + €5000 = €9000 in total.\n",
        "\n",
        "Or in tabular form:\n",
        "Player | Adding 1 | Adding 2 | Adding 3 | Adding 4 | Shapley value\n",
        ":---|:---:|:---:|:---:|:---:|---:|\n",
        "Marginal Cost | €8000 | €3000 | €2000 | €5000 | |\n",
        "Cost to 1 | €2000 | | | | **€2000** |\n",
        "Cost to 2 | €2000 | €1000 | | | **€3000** |\n",
        "Cost to 3 | €2000 | €1000 | €1000 | | **€4000** |\n",
        "Cost to 4 | €2000 | €1000 | €1000 | €5000 | **€9000** |\n",
        "\n",
        "As such, the players will split the total cost of €18000 in this way: (€2000, €3000, €4000, €9000).</br>\n",
        "Littlechild and Owen show that this way of dividing the total cost coincides with the Shapley Values of the players in the following coalitional game.\n",
        "\n",
        "### Formal definition of the airport game\n",
        "The airport game is defined on a set of players $N = \\{1,2,3,\\dots,n\\}$.\n",
        "Each player $i$ has is associated with $c_i$, which represents the cost of the runway that $i$ needs.\n",
        "Suppose, for simplicity, that costs are distinct and let $c_1 \\lt c_2 \\lt c_3 \\lt \\dots \\lt c_n$.\n",
        "The characteristic function of such a game is defined as follows:\n",
        "\n",
        "$$ v(S) = \\max_{i \\in S} c_i \\qquad \\forall S \\subseteq N$$\n",
        "\n",
        "The cost that each player should pay, i.e. the Shapley value, is computed as follows:\n",
        "\n",
        "$$\\phi_i = \\sum_{j = 1}^{i} \\frac{c_j - c_{j-1}}{n-j+1} \\qquad \\forall i \\in N; \\quad c_0 = 0$$\n",
        "\n",
        "The airport game is a particular example of game for which we can compute the Shapley value in polynomial time. Precisely, by following the previous formula, we can compute the Shapley value $\\mathcal{O}(n^2)$ operations.However, from the previous table we can see that we are actually computing the same values multiple times. So, we can use dynamic programming to compute the Shapley values for the airport game in linear time!\n",
        "\n",
        "The version discussed here, is the simplest version of the airport problem. The origrinal from Littlechild and Owen introduces a more complicated and realistic version of the problem. The airport problem has been extended in many ways in order to consider the number of companies, the number of aircrafts per company, the different types of aircrafts, and so on. If you desire to read more about the airport problem and its variations, you can consider these two papers<a name=\"cite_ref-2\"></a>[<sup>[2]</sup>](#cite_note-2)<a name=\"cite_ref-3\"></a>[<sup>[3]</sup>](#cite_note-3).\n",
        "\n",
        "\n",
        "<hr style=\"width:10%;text-align:left;margin-left:0\">\n",
        "\n",
        "<a name=\\cite_note-1\\></a>1. [^](#cite_ref-1): Littlechild, S. C., & Owen, G. (1973). A Simple Expression for the Shapely Value in a Special Case. Management Science, 20(3), 370–372. http://www.jstor.org/stable/2629727</br>\n",
        "<a name=\\cite_note-2\\></a>2. [^](#cite_ref-2): Vázquez-Brage, M., van den Nouweland, A., & Garcıa-Jurado, I. (1997). Owen's coalitional value and aircraft landing fees. Mathematical Social Sciences, 34(3), 273-286. </br>\n",
        "<a name=\\cite_note-3\\></a>3. [^](#cite_ref-3): Hou, D., Sun, H., Sun, P., & Driessen, T. (2018). A note on the Shapley value for airport cost pooling game. Games and economic behavior, 108, 162-169."
      ]
    },
    {
      "cell_type": "code",
      "execution_count": 2,
      "metadata": {
        "id": "u_vpWAqoeHqX"
      },
      "outputs": [],
      "source": [
        "# A function to directly compute the Shapley values for the airport game\n",
        "def airport_game_shapley_value(cost_list):\n",
        "    shapley_values = {}\n",
        "    n = len(cost_list)\n",
        "\n",
        "    for i in range(n):\n",
        "      if i == 0:\n",
        "        prec_cost = 0\n",
        "        prec_shapley = 0\n",
        "      else:\n",
        "        prec_cost = cost_list[i-1]\n",
        "        prec_shapley = shapley_values[str(i-1)]\n",
        "\n",
        "      marginal_cost = (cost_list[i] - prec_cost) / (n-i)\n",
        "      shapley_values[str(i)] = round(marginal_cost + prec_shapley, 10)\n",
        "    return list(shapley_values.values())\n",
        "\n",
        "# A function that, taken in input a vector of costs for the airport game, generates the corresponding characteristic function.\n",
        "def airport_game_characteristic_function(cost_list):\n",
        "    player_list = [str(i) for i in range(len(cost_list))]\n",
        "    return {subset: (max([cost_list[int(i)] for i in subset]) if subset != frozenset() else 0) for subset in powerset(player_list)}"
      ]
    },
    {
      "cell_type": "code",
      "execution_count": 3,
      "metadata": {
        "id": "Xe8ZGqGIeHqY",
        "colab": {
          "base_uri": "https://localhost:8080/"
        },
        "outputId": "0d4e0491-8a22-489a-fe8d-d5ba1907718f"
      },
      "outputs": [
        {
          "output_type": "stream",
          "name": "stdout",
          "text": [
            "frozenset({'0'}) :  8000\n",
            "frozenset({'1'}) :  11000\n",
            "frozenset({'2'}) :  13000\n",
            "frozenset({'3'}) :  18000\n",
            "frozenset({'1', '0'}) :  11000\n",
            "frozenset({'2', '0'}) :  13000\n",
            "frozenset({'3', '0'}) :  18000\n",
            "frozenset({'2', '1'}) :  13000\n",
            "frozenset({'3', '1'}) :  18000\n",
            "frozenset({'3', '2'}) :  18000\n",
            "frozenset({'2', '1', '0'}) :  13000\n",
            "frozenset({'3', '1', '0'}) :  18000\n",
            "frozenset({'3', '2', '0'}) :  18000\n",
            "frozenset({'3', '2', '1'}) :  18000\n",
            "frozenset({'3', '2', '1', '0'}) :  18000\n",
            "frozenset() :  0\n"
          ]
        }
      ],
      "source": [
        "0# Let's print the characteristic function of the airport game we have described before\n",
        "cost_list = [8000, 11000, 13000, 18000]\n",
        "v = airport_game_characteristic_function(cost_list)\n",
        "for k in v:\n",
        "    print(k, ': ', v[k])"
      ]
    },
    {
      "cell_type": "code",
      "execution_count": 4,
      "metadata": {
        "id": "UbmjVOXmeHqY",
        "colab": {
          "base_uri": "https://localhost:8080/"
        },
        "outputId": "4878120c-d2f9-42ab-df35-613fff7fc097"
      },
      "outputs": [
        {
          "output_type": "stream",
          "name": "stdout",
          "text": [
            "[2000.0, 3000.0, 4000.0, 9000.0]\n"
          ]
        }
      ],
      "source": [
        "# Let's compute the Shapley value with the specialised formula for the airport game\n",
        "print(airport_game_shapley_value(cost_list))"
      ]
    },
    {
      "cell_type": "code",
      "execution_count": 5,
      "metadata": {
        "id": "JxHWa34teHqY",
        "colab": {
          "base_uri": "https://localhost:8080/"
        },
        "outputId": "aa5cf765-6eb5-4d66-906d-855c5a497f1b"
      },
      "outputs": [
        {
          "output_type": "stream",
          "name": "stdout",
          "text": [
            "{'3': 9000.0, '2': 4000.0, '1': 3000.0, '0': 2000.0}\n"
          ]
        }
      ],
      "source": [
        "# Let's compute the Shapley value with the exponential formula\n",
        "print(shapley(v))"
      ]
    },
    {
      "cell_type": "code",
      "execution_count": 6,
      "metadata": {
        "id": "jvmha2KHeHqY",
        "colab": {
          "base_uri": "https://localhost:8080/"
        },
        "outputId": "e4627281-b0a5-4e9b-a845-3959773246c9"
      },
      "outputs": [
        {
          "output_type": "stream",
          "name": "stdout",
          "text": [
            "Even if we have just 20 players, the naive representation of the characteristic function stores 1048576 couples of coalitions and their respective value, as opposed to the only 20 values stored by the cost vector for the airport game.\n",
            "The memory footprint of the cost vector is 216 bytes, while the memory footprint of the characteristic function is 41943136 bytes!\n",
            "Computational time with the specialized formula for the airport game:  0.00011658668518066406 seconds\n",
            "Computational time with the general exponential formula on characteristic function games:  33.01711177825928 seconds\n"
          ]
        }
      ],
      "source": [
        "import time\n",
        "import random\n",
        "from sys import getsizeof\n",
        "# Let's make a random airport game with only 20 players and let's compare the computational time to obtain the Shapley value with both algorithms\n",
        "cost_list = sorted(random.sample(range(1,100), 20))\n",
        "v = airport_game_characteristic_function(cost_list)\n",
        "print(\"Even if we have just 20 players, the naive representation of the characteristic function stores %d couples of coalitions and their respective value, as opposed to the only 20 values stored by the cost vector for the airport game.\" %len(v))\n",
        "print(\"The memory footprint of the cost vector is %d bytes, while the memory footprint of the characteristic function is %s bytes!\" %(getsizeof(cost_list), getsizeof(v)))\n",
        "st = time.time()\n",
        "shap_vals_a = airport_game_shapley_value(cost_list)\n",
        "et = time.time()\n",
        "print(\"Computational time with the specialized formula for the airport game: \", et - st, \"seconds\")\n",
        "st = time.time()\n",
        "shap_vals_g = shapley(v)\n",
        "et = time.time()\n",
        "print(\"Computational time with the general exponential formula on characteristic function games: \", et - st, \"seconds\")"
      ]
    },
    {
      "cell_type": "markdown",
      "metadata": {
        "id": "7IifkIcfeHqY"
      },
      "source": [
        "# Montecarlo approximation of the Shapley value\n"
      ]
    },
    {
      "cell_type": "code",
      "execution_count": 7,
      "metadata": {
        "id": "KLnNS8xqeHqY"
      },
      "outputs": [],
      "source": [
        "def permutation_sampling(player_list, m):\n",
        "    perms = []\n",
        "    for _ in range(m):\n",
        "      perms.append(random.sample(player_list, len(player_list)))\n",
        "    return perms\n",
        "\n",
        "def predecessors(player, player_list, permutation):\n",
        "    pred = []\n",
        "    for elem in permutation:\n",
        "      if elem == player:\n",
        "        return pred\n",
        "      pred.append(elem)\n",
        "    return pred\n",
        "\n",
        "def extract_players(characteristic_function):\n",
        "    return [list(elem)[0] for elem in characteristic_function if len(elem) == 1]\n",
        "\n",
        "def shapley_montecarlo(characteristic_function, m):\n",
        "    player_list = extract_players(characteristic_function)\n",
        "    shapley_values = {player: 0 for player in player_list}\n",
        "    perms = permutation_sampling(player_list, m)\n",
        "\n",
        "    for perm in perms:\n",
        "      for player in player_list:\n",
        "        preds = predecessors(player, player_list, perm)\n",
        "        shapley_values[player] += \\\n",
        "          characteristic_function[frozenset(preds).union(frozenset(player))] - \\\n",
        "          characteristic_function[frozenset(preds)]\n",
        "\n",
        "    for elem in shapley_values:\n",
        "      shapley_values[elem] /= m\n",
        "\n",
        "    return shapley_values"
      ]
    },
    {
      "cell_type": "code",
      "execution_count": 8,
      "metadata": {
        "id": "KnLpUy7aeHqY"
      },
      "outputs": [],
      "source": [
        "# A function to evaluate the mean absolute percentage error between two vectors. We use this to evaluate the Montecarlo approximation of the Shapley value\n",
        "# Mean absolute percentage error\n",
        "def mape(reference, approximation):\n",
        "    assert len(reference) == len(approximation), \"The two lists have different lengths\"\n",
        "    N = len(reference)\n",
        "\n",
        "    return sum([abs((x_i - y_i)/x_i) for x_i, y_i in zip(reference, approximation)])/N"
      ]
    },
    {
      "cell_type": "code",
      "execution_count": 25,
      "metadata": {
        "id": "e6PeZPnteHqY",
        "colab": {
          "base_uri": "https://localhost:8080/"
        },
        "outputId": "a494e92c-30b4-4326-fa84-db6a1c9896d4"
      },
      "outputs": [
        {
          "output_type": "execute_result",
          "data": {
            "text/plain": [
              "0.5378262923082506"
            ]
          },
          "metadata": {},
          "execution_count": 25
        }
      ],
      "source": [
        "# A random airport game with 20 players\n",
        "cost_list = sorted(random.sample(range(1,100), 20))\n",
        "v = airport_game_characteristic_function(cost_list)\n",
        "\n",
        "# Getting the values from the Montecarlo approximation of the Shapley Value\n",
        "approx_shapley = [elem[1] for elem in sorted(shapley_montecarlo(v, 1000).items(), key=lambda x: x[1])]\n",
        "exact_shapley = airport_game_shapley_value(cost_list)\n",
        "\n",
        "# Evaluating the error\n",
        "mape(exact_shapley, approx_shapley)"
      ]
    },
    {
      "cell_type": "markdown",
      "metadata": {
        "id": "CwUfxxu1eHqZ"
      },
      "source": [
        "## Optional: run a small experiment to analyse how the mean absolute percentage error decreases as the number of samples m increases"
      ]
    },
    {
      "cell_type": "code",
      "execution_count": 28,
      "metadata": {
        "id": "JQCrgMHseHqZ",
        "colab": {
          "base_uri": "https://localhost:8080/",
          "height": 470
        },
        "outputId": "c4766b11-a407-49bb-d3b7-28c9e1e4bcbb"
      },
      "outputs": [
        {
          "output_type": "display_data",
          "data": {
            "text/plain": [
              "<Figure size 1500x500 with 1 Axes>"
            ],
            "image/png": "[encoded data removed]"
          },
          "metadata": {}
        }
      ],
      "source": [
        "import matplotlib.pyplot as plt\n",
        "\n",
        "x = [10,50,100,500,1000,5000,10000,50000,100000]\n",
        "y = []\n",
        "\n",
        "for m in x:\n",
        "  approx_shapley = [elem[1] for elem in sorted(shapley_montecarlo(v, m).items(), key=lambda x: x[1])]\n",
        "  exact_shapley = airport_game_shapley_value(cost_list)\n",
        "\n",
        "  y.append(mape(exact_shapley, approx_shapley))\n",
        "\n",
        "plt.plot(x, y)\n",
        "#wider image\n",
        "plt.gcf().set_size_inches(15, 5)\n",
        "plt.xlabel('Number of samples')\n",
        "plt.ylabel('Mean absolute percentage error')\n",
        "plt.show()"
      ]
    },
    {
      "cell_type": "markdown",
      "metadata": {
        "id": "pwXGAZqseHqZ"
      },
      "source": [
        "# Induced Subgraph Games\n",
        "Induced subgraph games are a compact way to represent a particular class of coalitional games with a specific form for the characteristic function. An induced subgraph is a tuple $\\mathcal{G}(V, E, \\mathbf{w})$ where $V$ is the set of nodes, or vertices, of the graph, $E$ is the set of edges, and $\\mathbf{w}$ is a vector of weights on the edges. In such a graph, players are represented as nodes, edges represent coalitions of two players and weights represent the value of the coalition between any two players. Self loops are allowed in order to express the value of a player. In induced subgraph games, the value of a coalition $C \\subseteq N$ is given by the sum of the weights $w_{ij}$ in the graph whose components are all contained in $C$. That is:\n",
        "\n",
        "$$v(C) = \\sum_{\\{i,j\\} \\subseteq C} w_{ij}$$\n",
        "\n",
        "This representation is useful to model interactions between the players in social networks. With this representation it is also possible to express whether any two players are in a synergical relation &ndash; for instance, when two players are together their value is higher than the sum of their values taken singualarly &ndash; or if they are in a detrimental relation, such as a situation in which when two player are together they obstacolate each other and lower their value.\n",
        "\n",
        "In induced subgraph games, the computation of the Shapley value for a player $i$ is given by $v(\\{i\\})$ plus half of the sum of all the edges adjacent to $i$. That is:\n",
        "\n",
        "$$\\phi_i = w_{ii} + \\frac{1}{2} \\sum_{j \\in \\Gamma(i)} w_{ij}$$\n",
        "\n",
        "where $\\Gamma(i)$ is the neighbourhood function, which returns all the nodes $j$ adjacent to $i$.\n",
        "\n",
        "Induced subgraph games allow us to represent many games, but not all games. For instance, the ariport game we have seen before cannot be represented as an induced subgraph game.</br>\n",
        "In order to implement induced subgraph games in Python, we can use one of the libraries that implement graphs data structures and graph algorithms. A very good library, to this extent, is NetworkX: a library for graph data processing and analysis, which implements many graph algorithms and functions for social network analysis. It offers an easy to use and intuitive API, which makes working with graph data extremely simple. Being purely written in Python, however, it is not the fastest library available. If you are interested in sensibly faster graph processing and analysis libraries, please consider iGraph, NetworKit, or graph-tool.</br>\n",
        "You can find the documentation of NetworkX here: https://networkx.org/documentation/stable/index.html"
      ]
    },
    {
      "cell_type": "code",
      "execution_count": 11,
      "metadata": {
        "id": "sNGm_oyxeHqZ"
      },
      "outputs": [],
      "source": [
        "import networkx as nx"
      ]
    },
    {
      "cell_type": "markdown",
      "metadata": {
        "id": "5jXcGd7oeHqZ"
      },
      "source": [
        "Now, we create a random graph with random edge weights; subsequently we will compute the Shapley values for the induced subgraph game, with the formula we have seen above. We will then translate the graph into a characteristic function and we will use the generic exponential formula to compute the Shapley value, in order to confirm that the Shapley values computed with both formula are, in fact, the same."
      ]
    },
    {
      "cell_type": "code",
      "execution_count": 12,
      "metadata": {
        "id": "Atp-JHYueHqZ"
      },
      "outputs": [],
      "source": [
        "# We create a random graph (also known as Erdos-Renyi model) G, with 10 nodes and 25 edges.\n",
        "# An undirected graph with N nodes can have at most (N*(N+1))/2 edges, if we exclude self-loops; N + (N*(N+1))/2 edges if we include self loops. In ourt case, we could have up to 65 edges, including self-loops. If two players are not connected with an edge, their coalition has value 0.\n",
        "# The following command does not create self-loops.\n",
        "G = nx.gnm_random_graph(10, 25)\n",
        "\n",
        "# Let's add a self-loop for each node\n",
        "for node in G.nodes():\n",
        "    G.add_edge(node, node)"
      ]
    },
    {
      "cell_type": "code",
      "execution_count": 16,
      "metadata": {
        "id": "8YXxpYVYeHqZ",
        "colab": {
          "base_uri": "https://localhost:8080/"
        },
        "outputId": "4350452e-5c8d-474f-a6e8-4c89370c4004"
      },
      "outputs": [
        {
          "output_type": "stream",
          "name": "stdout",
          "text": [
            "(0, 8, {'weight': 51})\n",
            "(0, 6, {'weight': 41})\n",
            "(0, 3, {'weight': 2})\n",
            "(0, 1, {'weight': 4})\n",
            "(0, 0, {'weight': 58})\n",
            "(1, 7, {'weight': 33})\n",
            "(1, 4, {'weight': 50})\n",
            "(1, 2, {'weight': 94})\n",
            "(1, 9, {'weight': 97})\n",
            "(1, 8, {'weight': 33})\n",
            "(1, 5, {'weight': 78})\n",
            "(1, 1, {'weight': 96})\n",
            "(2, 6, {'weight': 84})\n",
            "(2, 7, {'weight': 80})\n",
            "(2, 5, {'weight': 71})\n",
            "(2, 3, {'weight': 7})\n",
            "(2, 2, {'weight': 85})\n",
            "(3, 5, {'weight': 54})\n",
            "(3, 9, {'weight': 35})\n",
            "(3, 8, {'weight': 15})\n",
            "(3, 7, {'weight': 69})\n",
            "(3, 3, {'weight': 78})\n",
            "(4, 5, {'weight': 57})\n",
            "(4, 4, {'weight': 99})\n",
            "(5, 7, {'weight': 57})\n",
            "(5, 6, {'weight': 14})\n",
            "(5, 8, {'weight': 75})\n",
            "(5, 9, {'weight': 58})\n",
            "(5, 5, {'weight': 56})\n",
            "(6, 7, {'weight': 63})\n",
            "(6, 6, {'weight': 82})\n",
            "(7, 9, {'weight': 86})\n",
            "(7, 7, {'weight': 60})\n",
            "(8, 8, {'weight': 65})\n",
            "(9, 9, {'weight': 61})\n"
          ]
        }
      ],
      "source": [
        "# The function G.edges() returns a list of tuples in the format (source_node, destination_node).\n",
        "# Each edge offers a dictionary where we can store information about the edge.\n",
        "# We can access the dictionary of each edge as follows: G.edges[source_node, destination_node]\n",
        "# We can use the dictionary of edge attributes to assign each edge a random weight as an integer between 0 and 100\n",
        "for i,j in G.edges():\n",
        "    G.edges[i,j]['weight'] = random.randint(1,100)\n",
        "\n",
        "# To retrieve the data in the dictionary we have to specify \"data=True\" in the function G.edges.\n",
        "for e in G.edges(data=True):\n",
        "    print(e)"
      ]
    },
    {
      "cell_type": "markdown",
      "metadata": {
        "id": "q3rVvs8-eHqZ"
      },
      "source": [
        "Now, lets implement a function to compute the value of a coalition for induced subgraph games."
      ]
    },
    {
      "cell_type": "code",
      "execution_count": 17,
      "metadata": {
        "id": "HPXseh8XeHqZ"
      },
      "outputs": [],
      "source": [
        "def ISG_coalition_value(graph, coalition):\n",
        "    value = 0\n",
        "    for i,j in graph.edges():\n",
        "      weight = graph.edges[i,j]['weight']\n",
        "      if i in coalition and j in coalition:\n",
        "        value += weight\n",
        "    return value"
      ]
    },
    {
      "cell_type": "code",
      "execution_count": 18,
      "metadata": {
        "id": "PeaAeE27eHqZ",
        "colab": {
          "base_uri": "https://localhost:8080/"
        },
        "outputId": "92c99160-32e6-4756-a26c-d01f0e3d1480"
      },
      "outputs": [
        {
          "output_type": "execute_result",
          "data": {
            "text/plain": [
              "542"
            ]
          },
          "metadata": {},
          "execution_count": 18
        }
      ],
      "source": [
        "ISG_coalition_value(G, {0,1,2,5})"
      ]
    },
    {
      "cell_type": "markdown",
      "metadata": {
        "id": "GZYt8pVNeHqZ"
      },
      "source": [
        "Let's write a function to compute the Shapley value for the ISG"
      ]
    },
    {
      "cell_type": "code",
      "execution_count": 19,
      "metadata": {
        "id": "eTojfmeJeHqZ"
      },
      "outputs": [],
      "source": [
        "def ISG_shapley_value(graph):\n",
        "    shapley_values = {node: 0 for node in graph.nodes()}\n",
        "\n",
        "    for node in graph.nodes():\n",
        "      try:\n",
        "        self_loop_weight = graph.edges[node,node]['weight']\n",
        "      except:\n",
        "        self_loop_weight = 0\n",
        "      shapley_values[node] = self_loop_weight + (1/2) * \\\n",
        "      sum([graph.edges[i,j]['weight'] for i,j in graph.edges if (i == node or j == node) and i != j])\n",
        "    return shapley_values"
      ]
    },
    {
      "cell_type": "code",
      "execution_count": 20,
      "metadata": {
        "id": "F1Bz0qK1eHqZ",
        "colab": {
          "base_uri": "https://localhost:8080/"
        },
        "outputId": "18e43eb7-d29c-418b-d85e-bd851de5302f"
      },
      "outputs": [
        {
          "output_type": "execute_result",
          "data": {
            "text/plain": [
              "{0: 107.0,\n",
              " 1: 290.5,\n",
              " 2: 253.0,\n",
              " 3: 169.0,\n",
              " 4: 152.5,\n",
              " 5: 288.0,\n",
              " 6: 183.0,\n",
              " 7: 254.0,\n",
              " 8: 152.0,\n",
              " 9: 199.0}"
            ]
          },
          "metadata": {},
          "execution_count": 20
        }
      ],
      "source": [
        "ISG_shapley_value(G)"
      ]
    },
    {
      "cell_type": "markdown",
      "metadata": {
        "id": "cIAUUSMAeHqa"
      },
      "source": [
        "Let's define now a function to convert the induced subgraph game into a characteristic function game (CFG). As usual, we first generate all the possible coalitions. Then we compute the value of each coalition and organise everyting in a dictionary.\n",
        "The following one-liner does everything!"
      ]
    },
    {
      "cell_type": "code",
      "execution_count": 21,
      "metadata": {
        "id": "4_uC5TbjeHqa"
      },
      "outputs": [],
      "source": [
        "def from_ISG_to_CFG(graph):\n",
        "    return {coalition : (ISG_coalition_value(graph, coalition) if coalition != frozenset() else 0) for coalition in powerset(graph.nodes)}"
      ]
    },
    {
      "cell_type": "code",
      "execution_count": 22,
      "metadata": {
        "id": "fbvONc8aeHqa",
        "colab": {
          "base_uri": "https://localhost:8080/"
        },
        "outputId": "8efea660-df2e-4eaa-a014-50b2ab7d840d"
      },
      "outputs": [
        {
          "output_type": "stream",
          "name": "stdout",
          "text": [
            "{frozenset({0}): 58, frozenset({1}): 96, frozenset({2}): 85, frozenset({3}): 78, frozenset({4}): 99, frozenset({5}): 56, frozenset({6}): 82, frozenset({7}): 60, frozenset({8}): 65, frozenset({9}): 61, frozenset({0, 1}): 158, frozenset({0, 2}): 143, frozenset({0, 3}): 138, frozenset({0, 4}): 157, frozenset({0, 5}): 114, frozenset({0, 6}): 181, frozenset({0, 7}): 118, frozenset({0, 8}): 174, frozenset({0, 9}): 119, frozenset({1, 2}): 275, frozenset({1, 3}): 174, frozenset({1, 4}): 245, frozenset({1, 5}): 230, frozenset({1, 6}): 178, frozenset({1, 7}): 189, frozenset({8, 1}): 194, frozenset({1, 9}): 254, frozenset({2, 3}): 170, frozenset({2, 4}): 184, frozenset({2, 5}): 212, frozenset({2, 6}): 251, frozenset({2, 7}): 225, frozenset({8, 2}): 150, frozenset({9, 2}): 146, frozenset({3, 4}): 177, frozenset({3, 5}): 188, frozenset({3, 6}): 160, frozenset({3, 7}): 207, frozenset({8, 3}): 158, frozenset({9, 3}): 174, frozenset({4, 5}): 212, frozenset({4, 6}): 181, frozenset({4, 7}): 159, frozenset({8, 4}): 164, frozenset({9, 4}): 160, frozenset({5, 6}): 152, frozenset({5, 7}): 173, frozenset({8, 5}): 196, frozenset({9, 5}): 175, frozenset({6, 7}): 205, frozenset({8, 6}): 147, frozenset({9, 6}): 143, frozenset({8, 7}): 125, frozenset({9, 7}): 207, frozenset({8, 9}): 126, frozenset({0, 1, 2}): 337, frozenset({0, 1, 3}): 238, frozenset({0, 1, 4}): 307, frozenset({0, 1, 5}): 292, frozenset({0, 1, 6}): 281, frozenset({0, 1, 7}): 251, frozenset({0, 1, 8}): 307, frozenset({0, 1, 9}): 316, frozenset({0, 2, 3}): 230, frozenset({0, 2, 4}): 242, frozenset({0, 2, 5}): 270, frozenset({0, 2, 6}): 350, frozenset({0, 2, 7}): 283, frozenset({0, 8, 2}): 259, frozenset({0, 9, 2}): 204, frozenset({0, 3, 4}): 237, frozenset({0, 3, 5}): 248, frozenset({0, 3, 6}): 261, frozenset({0, 3, 7}): 267, frozenset({0, 8, 3}): 269, frozenset({0, 9, 3}): 234, frozenset({0, 4, 5}): 270, frozenset({0, 4, 6}): 280, frozenset({0, 4, 7}): 217, frozenset({0, 8, 4}): 273, frozenset({0, 9, 4}): 218, frozenset({0, 5, 6}): 251, frozenset({0, 5, 7}): 231, frozenset({0, 8, 5}): 305, frozenset({0, 9, 5}): 233, frozenset({0, 6, 7}): 304, frozenset({0, 8, 6}): 297, frozenset({0, 9, 6}): 242, frozenset({0, 8, 7}): 234, frozenset({0, 9, 7}): 265, frozenset({0, 8, 9}): 235, frozenset({1, 2, 3}): 360, frozenset({1, 2, 4}): 424, frozenset({1, 2, 5}): 480, frozenset({1, 2, 6}): 441, frozenset({1, 2, 7}): 448, frozenset({8, 1, 2}): 373, frozenset({1, 2, 9}): 433, frozenset({1, 3, 4}): 323, frozenset({1, 3, 5}): 362, frozenset({1, 3, 6}): 256, frozenset({1, 3, 7}): 336, frozenset({8, 1, 3}): 287, frozenset({1, 3, 9}): 367, frozenset({1, 4, 5}): 436, frozenset({1, 4, 6}): 327, frozenset({1, 4, 7}): 338, frozenset({8, 1, 4}): 343, frozenset({1, 4, 9}): 403, frozenset({1, 5, 6}): 326, frozenset({1, 5, 7}): 380, frozenset({8, 1, 5}): 403, frozenset({1, 5, 9}): 446, frozenset({1, 6, 7}): 334, frozenset({8, 1, 6}): 276, frozenset({1, 6, 9}): 336, frozenset({8, 1, 7}): 287, frozenset({1, 9, 7}): 433, frozenset({8, 1, 9}): 352, frozenset({2, 3, 4}): 269, frozenset({2, 3, 5}): 351, frozenset({2, 3, 6}): 336, frozenset({2, 3, 7}): 379, frozenset({8, 2, 3}): 250, frozenset({9, 2, 3}): 266, frozenset({2, 4, 5}): 368, frozenset({2, 4, 6}): 350, frozenset({2, 4, 7}): 324, frozenset({8, 2, 4}): 249, frozenset({9, 2, 4}): 245, frozenset({2, 5, 6}): 392, frozenset({2, 5, 7}): 409, frozenset({8, 2, 5}): 352, frozenset({9, 2, 5}): 331, frozenset({2, 6, 7}): 454, frozenset({8, 2, 6}): 316, frozenset({9, 2, 6}): 312, frozenset({8, 2, 7}): 290, frozenset({9, 2, 7}): 372, frozenset({8, 9, 2}): 211, frozenset({3, 4, 5}): 344, frozenset({3, 4, 6}): 259, frozenset({3, 4, 7}): 306, frozenset({8, 3, 4}): 257, frozenset({9, 3, 4}): 273, frozenset({3, 5, 6}): 284, frozenset({3, 5, 7}): 374, frozenset({8, 3, 5}): 343, frozenset({9, 3, 5}): 342, frozenset({3, 6, 7}): 352, frozenset({8, 3, 6}): 240, frozenset({9, 3, 6}): 256, frozenset({8, 3, 7}): 287, frozenset({9, 3, 7}): 389, frozenset({8, 9, 3}): 254, frozenset({4, 5, 6}): 308, frozenset({4, 5, 7}): 329, frozenset({8, 4, 5}): 352, frozenset({9, 4, 5}): 331, frozenset({4, 6, 7}): 304, frozenset({8, 4, 6}): 246, frozenset({9, 4, 6}): 242, frozenset({8, 4, 7}): 224, frozenset({9, 4, 7}): 306, frozenset({8, 9, 4}): 225, frozenset({5, 6, 7}): 332, frozenset({8, 5, 6}): 292, frozenset({9, 5, 6}): 271, frozenset({8, 5, 7}): 313, frozenset({9, 5, 7}): 378, frozenset({8, 9, 5}): 315, frozenset({8, 6, 7}): 270, frozenset({9, 6, 7}): 352, frozenset({8, 9, 6}): 208, frozenset({8, 9, 7}): 272, frozenset({0, 1, 2, 3}): 424, frozenset({0, 1, 2, 4}): 486, frozenset({0, 1, 2, 5}): 542, frozenset({0, 1, 2, 6}): 544, frozenset({0, 1, 2, 7}): 510, frozenset({0, 1, 2, 8}): 486, frozenset({0, 1, 2, 9}): 495, frozenset({0, 1, 3, 4}): 387, frozenset({0, 1, 3, 5}): 426, frozenset({0, 1, 3, 6}): 361, frozenset({0, 1, 3, 7}): 400, frozenset({0, 1, 3, 8}): 402, frozenset({0, 1, 3, 9}): 431, frozenset({0, 1, 4, 5}): 498, frozenset({0, 1, 4, 6}): 430, frozenset({0, 1, 4, 7}): 400, frozenset({0, 1, 4, 8}): 456, frozenset({0, 1, 4, 9}): 465, frozenset({0, 1, 5, 6}): 429, frozenset({0, 1, 5, 7}): 442, frozenset({0, 1, 5, 8}): 516, frozenset({0, 1, 5, 9}): 508, frozenset({0, 1, 6, 7}): 437, frozenset({0, 1, 6, 8}): 430, frozenset({0, 1, 6, 9}): 439, frozenset({0, 1, 8, 7}): 400, frozenset({0, 1, 9, 7}): 495, frozenset({0, 1, 8, 9}): 465, frozenset({0, 2, 3, 4}): 329, frozenset({0, 2, 3, 5}): 411, frozenset({0, 2, 3, 6}): 437, frozenset({0, 2, 3, 7}): 439, frozenset({0, 8, 2, 3}): 361, frozenset({0, 9, 2, 3}): 326, frozenset({0, 2, 4, 5}): 426, frozenset({0, 2, 4, 6}): 449, frozenset({0, 2, 4, 7}): 382, frozenset({0, 8, 2, 4}): 358, frozenset({0, 9, 2, 4}): 303, frozenset({0, 2, 5, 6}): 491, frozenset({0, 2, 5, 7}): 467, frozenset({0, 8, 2, 5}): 461, frozenset({0, 9, 2, 5}): 389, frozenset({0, 2, 6, 7}): 553, frozenset({0, 8, 2, 6}): 466, frozenset({0, 9, 2, 6}): 411, frozenset({0, 8, 2, 7}): 399, frozenset({0, 9, 2, 7}): 430, frozenset({0, 8, 2, 9}): 320, frozenset({0, 3, 4, 5}): 404, frozenset({0, 3, 4, 6}): 360, frozenset({0, 3, 4, 7}): 366, frozenset({0, 8, 3, 4}): 368, frozenset({0, 9, 3, 4}): 333, frozenset({0, 3, 5, 6}): 385, frozenset({0, 3, 5, 7}): 434, frozenset({0, 8, 3, 5}): 454, frozenset({0, 9, 3, 5}): 402, frozenset({0, 3, 6, 7}): 453, frozenset({0, 8, 3, 6}): 392, frozenset({0, 9, 3, 6}): 357, frozenset({0, 8, 3, 7}): 398, frozenset({0, 9, 3, 7}): 449, frozenset({0, 8, 3, 9}): 365, frozenset({0, 4, 5, 6}): 407, frozenset({0, 4, 5, 7}): 387, frozenset({0, 8, 4, 5}): 461, frozenset({0, 9, 4, 5}): 389, frozenset({0, 4, 6, 7}): 403, frozenset({0, 8, 4, 6}): 396, frozenset({0, 9, 4, 6}): 341, frozenset({0, 8, 4, 7}): 333, frozenset({0, 9, 4, 7}): 364, frozenset({0, 8, 4, 9}): 334, frozenset({0, 5, 6, 7}): 431, frozenset({0, 8, 5, 6}): 442, frozenset({0, 9, 5, 6}): 370, frozenset({0, 8, 5, 7}): 422, frozenset({0, 9, 5, 7}): 436, frozenset({0, 8, 5, 9}): 424, frozenset({0, 8, 6, 7}): 420, frozenset({0, 9, 6, 7}): 451, frozenset({0, 8, 6, 9}): 358, frozenset({0, 8, 9, 7}): 381, frozenset({1, 2, 3, 4}): 509, frozenset({1, 2, 3, 5}): 619, frozenset({1, 2, 3, 6}): 526, frozenset({1, 2, 3, 7}): 602, frozenset({8, 1, 2, 3}): 473, frozenset({1, 2, 3, 9}): 553, frozenset({1, 2, 4, 5}): 686, frozenset({1, 2, 4, 6}): 590, frozenset({1, 2, 4, 7}): 597, frozenset({8, 1, 2, 4}): 522, frozenset({1, 2, 4, 9}): 582, frozenset({1, 2, 5, 6}): 660, frozenset({1, 2, 5, 7}): 710, frozenset({8, 1, 2, 5}): 653, frozenset({1, 2, 5, 9}): 696, frozenset({1, 2, 6, 7}): 677, frozenset({8, 1, 2, 6}): 539, frozenset({1, 2, 6, 9}): 599, frozenset({8, 1, 2, 7}): 546, frozenset({1, 2, 9, 7}): 692, frozenset({8, 1, 2, 9}): 531, frozenset({1, 3, 4, 5}): 568, frozenset({1, 3, 4, 6}): 405, frozenset({1, 3, 4, 7}): 485, frozenset({8, 1, 3, 4}): 436, frozenset({1, 3, 4, 9}): 516, frozenset({1, 3, 5, 6}): 458, frozenset({1, 3, 5, 7}): 581, frozenset({8, 1, 3, 5}): 550, frozenset({1, 3, 5, 9}): 613, frozenset({1, 3, 6, 7}): 481, frozenset({8, 1, 3, 6}): 369, frozenset({1, 3, 6, 9}): 449, frozenset({8, 1, 3, 7}): 449, frozenset({1, 3, 9, 7}): 615, frozenset({8, 1, 3, 9}): 480, frozenset({1, 4, 5, 6}): 532, frozenset({1, 4, 5, 7}): 586, frozenset({8, 1, 4, 5}): 609, frozenset({1, 4, 5, 9}): 652, frozenset({1, 4, 6, 7}): 483, frozenset({8, 1, 4, 6}): 425, frozenset({1, 4, 6, 9}): 485, frozenset({8, 1, 4, 7}): 436, frozenset({1, 4, 9, 7}): 582, frozenset({8, 1, 4, 9}): 501, frozenset({1, 5, 6, 7}): 539, frozenset({8, 1, 5, 6}): 499, frozenset({1, 5, 6, 9}): 542, frozenset({8, 1, 5, 7}): 553, frozenset({1, 5, 9, 7}): 682, frozenset({8, 1, 5, 9}): 619, frozenset({8, 1, 6, 7}): 432, frozenset({1, 9, 6, 7}): 578, frozenset({8, 1, 6, 9}): 434, frozenset({8, 1, 9, 7}): 531, frozenset({2, 3, 4, 5}): 507, frozenset({2, 3, 4, 6}): 435, frozenset({2, 3, 4, 7}): 478, frozenset({8, 2, 3, 4}): 349, frozenset({9, 2, 3, 4}): 365, frozenset({2, 3, 5, 6}): 531, frozenset({2, 3, 5, 7}): 617, frozenset({8, 2, 3, 5}): 506, frozenset({9, 2, 3, 5}): 505, frozenset({2, 3, 6, 7}): 608, frozenset({8, 2, 3, 6}): 416, frozenset({9, 2, 3, 6}): 432, frozenset({8, 2, 3, 7}): 459, frozenset({9, 2, 3, 7}): 561, frozenset({8, 9, 2, 3}): 346, frozenset({2, 4, 5, 6}): 548, frozenset({2, 4, 5, 7}): 565, frozenset({8, 2, 4, 5}): 508, frozenset({9, 2, 4, 5}): 487, frozenset({2, 4, 6, 7}): 553, frozenset({8, 2, 4, 6}): 415, frozenset({9, 2, 4, 6}): 411, frozenset({8, 2, 4, 7}): 389, frozenset({9, 2, 4, 7}): 471, frozenset({8, 9, 2, 4}): 310, frozenset({2, 5, 6, 7}): 652, frozenset({8, 2, 5, 6}): 532, frozenset({9, 2, 5, 6}): 511, frozenset({8, 2, 5, 7}): 549, frozenset({9, 2, 5, 7}): 614, frozenset({8, 9, 2, 5}): 471, frozenset({8, 2, 6, 7}): 519, frozenset({9, 2, 6, 7}): 601, frozenset({8, 9, 2, 6}): 377, frozenset({8, 9, 2, 7}): 437, frozenset({3, 4, 5, 6}): 440, frozenset({3, 4, 5, 7}): 530, frozenset({8, 3, 4, 5}): 499, frozenset({9, 3, 4, 5}): 498, frozenset({3, 4, 6, 7}): 451, frozenset({8, 3, 4, 6}): 339, frozenset({9, 3, 4, 6}): 355, frozenset({8, 3, 4, 7}): 386, frozenset({9, 3, 4, 7}): 488, frozenset({8, 9, 3, 4}): 353, frozenset({3, 5, 6, 7}): 533, frozenset({8, 3, 5, 6}): 439, frozenset({9, 3, 5, 6}): 438, frozenset({8, 3, 5, 7}): 529, frozenset({9, 3, 5, 7}): 614, frozenset({8, 9, 3, 5}): 497, frozenset({8, 3, 6, 7}): 432, frozenset({9, 3, 6, 7}): 534, frozenset({8, 9, 3, 6}): 336, frozenset({8, 9, 3, 7}): 469, frozenset({4, 5, 6, 7}): 488, frozenset({8, 4, 5, 6}): 448, frozenset({9, 4, 5, 6}): 427, frozenset({8, 4, 5, 7}): 469, frozenset({9, 4, 5, 7}): 534, frozenset({8, 9, 4, 5}): 471, frozenset({8, 4, 6, 7}): 369, frozenset({9, 4, 6, 7}): 451, frozenset({8, 9, 4, 6}): 307, frozenset({8, 9, 4, 7}): 371, frozenset({8, 5, 6, 7}): 472, frozenset({9, 5, 6, 7}): 537, frozenset({8, 9, 5, 6}): 411, frozenset({8, 9, 5, 7}): 518, frozenset({8, 9, 6, 7}): 417, frozenset({0, 1, 2, 3, 4}): 573, frozenset({0, 1, 2, 3, 5}): 683, frozenset({0, 1, 2, 3, 6}): 631, frozenset({0, 1, 2, 3, 7}): 666, frozenset({0, 1, 2, 3, 8}): 588, frozenset({0, 1, 2, 3, 9}): 617, frozenset({0, 1, 2, 4, 5}): 748, frozenset({0, 1, 2, 4, 6}): 693, frozenset({0, 1, 2, 4, 7}): 659, frozenset({0, 1, 2, 4, 8}): 635, frozenset({0, 1, 2, 4, 9}): 644, frozenset({0, 1, 2, 5, 6}): 763, frozenset({0, 1, 2, 5, 7}): 772, frozenset({0, 1, 2, 5, 8}): 766, frozenset({0, 1, 2, 5, 9}): 758, frozenset({0, 1, 2, 6, 7}): 780, frozenset({0, 1, 2, 6, 8}): 693, frozenset({0, 1, 2, 6, 9}): 702, frozenset({0, 1, 2, 7, 8}): 659, frozenset({0, 1, 2, 7, 9}): 754, frozenset({0, 1, 2, 8, 9}): 644, frozenset({0, 1, 3, 4, 5}): 632, frozenset({0, 1, 3, 4, 6}): 510, frozenset({0, 1, 3, 4, 7}): 549, frozenset({0, 1, 3, 4, 8}): 551, frozenset({0, 1, 3, 4, 9}): 580, frozenset({0, 1, 3, 5, 6}): 563, frozenset({0, 1, 3, 5, 7}): 645, frozenset({0, 1, 3, 5, 8}): 665, frozenset({0, 1, 3, 5, 9}): 677, frozenset({0, 1, 3, 6, 7}): 586, frozenset({0, 1, 3, 6, 8}): 525, frozenset({0, 1, 3, 6, 9}): 554, frozenset({0, 1, 3, 7, 8}): 564, frozenset({0, 1, 3, 7, 9}): 679, frozenset({0, 1, 3, 8, 9}): 595, frozenset({0, 1, 4, 5, 6}): 635, frozenset({0, 1, 4, 5, 7}): 648, frozenset({0, 1, 4, 5, 8}): 722, frozenset({0, 1, 4, 5, 9}): 714, frozenset({0, 1, 4, 6, 7}): 586, frozenset({0, 1, 4, 6, 8}): 579, frozenset({0, 1, 4, 6, 9}): 588, frozenset({0, 1, 4, 7, 8}): 549, frozenset({0, 1, 4, 7, 9}): 644, frozenset({0, 1, 4, 8, 9}): 614, frozenset({0, 1, 5, 6, 7}): 642, frozenset({0, 1, 5, 6, 8}): 653, frozenset({0, 1, 5, 6, 9}): 645, frozenset({0, 1, 5, 7, 8}): 666, frozenset({0, 1, 5, 7, 9}): 744, frozenset({0, 1, 5, 8, 9}): 732, frozenset({0, 1, 6, 7, 8}): 586, frozenset({0, 1, 6, 7, 9}): 681, frozenset({0, 1, 6, 8, 9}): 588, frozenset({0, 1, 7, 8, 9}): 644, frozenset({0, 2, 3, 4, 5}): 567, frozenset({0, 2, 3, 4, 6}): 536, frozenset({0, 2, 3, 4, 7}): 538, frozenset({0, 2, 3, 4, 8}): 460, frozenset({0, 2, 3, 4, 9}): 425, frozenset({0, 2, 3, 5, 6}): 632, frozenset({0, 2, 3, 5, 7}): 677, frozenset({0, 2, 3, 5, 8}): 617, frozenset({0, 2, 3, 5, 9}): 565, frozenset({0, 2, 3, 6, 7}): 709, frozenset({0, 2, 3, 6, 8}): 568, frozenset({0, 2, 3, 6, 9}): 533, frozenset({0, 2, 3, 7, 8}): 570, frozenset({0, 2, 3, 7, 9}): 621, frozenset({0, 2, 3, 8, 9}): 457, frozenset({0, 2, 4, 5, 6}): 647, frozenset({0, 2, 4, 5, 7}): 623, frozenset({0, 2, 4, 5, 8}): 617, frozenset({0, 2, 4, 5, 9}): 545, frozenset({0, 2, 4, 6, 7}): 652, frozenset({0, 2, 4, 6, 8}): 565, frozenset({0, 2, 4, 6, 9}): 510, frozenset({0, 2, 4, 7, 8}): 498, frozenset({0, 2, 4, 7, 9}): 529, frozenset({0, 2, 4, 8, 9}): 419, frozenset({0, 2, 5, 6, 7}): 751, frozenset({0, 2, 5, 6, 8}): 682, frozenset({0, 2, 5, 6, 9}): 610, frozenset({0, 2, 5, 7, 8}): 658, frozenset({0, 2, 5, 7, 9}): 672, frozenset({0, 2, 5, 8, 9}): 580, frozenset({0, 2, 6, 7, 8}): 669, frozenset({0, 2, 6, 7, 9}): 700, frozenset({0, 2, 6, 8, 9}): 527, frozenset({0, 2, 7, 8, 9}): 546, frozenset({0, 3, 4, 5, 6}): 541, frozenset({0, 3, 4, 5, 7}): 590, frozenset({0, 3, 4, 5, 8}): 610, frozenset({0, 3, 4, 5, 9}): 558, frozenset({0, 3, 4, 6, 7}): 552, frozenset({0, 3, 4, 6, 8}): 491, frozenset({0, 3, 4, 6, 9}): 456, frozenset({0, 3, 4, 7, 8}): 497, frozenset({0, 3, 4, 7, 9}): 548, frozenset({0, 3, 4, 8, 9}): 464, frozenset({0, 3, 5, 6, 7}): 634, frozenset({0, 3, 5, 6, 8}): 591, frozenset({0, 3, 5, 6, 9}): 539, frozenset({0, 3, 5, 7, 8}): 640, frozenset({0, 3, 5, 7, 9}): 674, frozenset({0, 3, 5, 8, 9}): 608, frozenset({0, 3, 6, 7, 8}): 584, frozenset({0, 3, 6, 7, 9}): 635, frozenset({0, 3, 6, 8, 9}): 488, frozenset({0, 3, 7, 8, 9}): 580, frozenset({0, 4, 5, 6, 7}): 587, frozenset({0, 4, 5, 6, 8}): 598, frozenset({0, 4, 5, 6, 9}): 526, frozenset({0, 4, 5, 7, 8}): 578, frozenset({0, 4, 5, 7, 9}): 592, frozenset({0, 4, 5, 8, 9}): 580, frozenset({0, 4, 6, 7, 8}): 519, frozenset({0, 4, 6, 7, 9}): 550, frozenset({0, 4, 6, 8, 9}): 457, frozenset({0, 4, 7, 8, 9}): 480, frozenset({0, 5, 6, 7, 8}): 622, frozenset({0, 5, 6, 7, 9}): 636, frozenset({0, 5, 6, 8, 9}): 561, frozenset({0, 5, 7, 8, 9}): 627, frozenset({0, 6, 7, 8, 9}): 567, frozenset({1, 2, 3, 4, 5}): 825, frozenset({1, 2, 3, 4, 6}): 675, frozenset({1, 2, 3, 4, 7}): 751, frozenset({1, 2, 3, 4, 8}): 622, frozenset({1, 2, 3, 4, 9}): 702, frozenset({1, 2, 3, 5, 6}): 799, frozenset({1, 2, 3, 5, 7}): 918, frozenset({1, 2, 3, 5, 8}): 807, frozenset({1, 2, 3, 5, 9}): 870, frozenset({1, 2, 3, 6, 7}): 831, frozenset({1, 2, 3, 6, 8}): 639, frozenset({1, 2, 3, 6, 9}): 719, frozenset({1, 2, 3, 7, 8}): 715, frozenset({1, 2, 3, 7, 9}): 881, frozenset({1, 2, 3, 8, 9}): 666, frozenset({1, 2, 4, 5, 6}): 866, frozenset({1, 2, 4, 5, 7}): 916, frozenset({1, 2, 4, 5, 8}): 859, frozenset({1, 2, 4, 5, 9}): 902, frozenset({1, 2, 4, 6, 7}): 826, frozenset({1, 2, 4, 6, 8}): 688, frozenset({1, 2, 4, 6, 9}): 748, frozenset({1, 2, 4, 7, 8}): 695, frozenset({1, 2, 4, 7, 9}): 841, frozenset({1, 2, 4, 8, 9}): 680, frozenset({1, 2, 5, 6, 7}): 953, frozenset({1, 2, 5, 6, 8}): 833, frozenset({1, 2, 5, 6, 9}): 876, frozenset({1, 2, 5, 7, 8}): 883, frozenset({1, 2, 5, 7, 9}): 1012, frozenset({1, 2, 5, 8, 9}): 869, frozenset({1, 2, 6, 7, 8}): 775, frozenset({1, 2, 6, 7, 9}): 921, frozenset({1, 2, 6, 8, 9}): 697, frozenset({1, 2, 7, 8, 9}): 790, frozenset({1, 3, 4, 5, 6}): 664, frozenset({1, 3, 4, 5, 7}): 787, frozenset({1, 3, 4, 5, 8}): 756, frozenset({1, 3, 4, 5, 9}): 819, frozenset({1, 3, 4, 6, 7}): 630, frozenset({1, 3, 4, 6, 8}): 518, frozenset({1, 3, 4, 6, 9}): 598, frozenset({1, 3, 4, 7, 8}): 598, frozenset({1, 3, 4, 7, 9}): 764, frozenset({1, 3, 4, 8, 9}): 629, frozenset({1, 3, 5, 6, 7}): 740, frozenset({1, 3, 5, 6, 8}): 646, frozenset({1, 3, 5, 6, 9}): 709, frozenset({1, 3, 5, 7, 8}): 769, frozenset({1, 3, 5, 7, 9}): 918, frozenset({1, 3, 5, 8, 9}): 801, frozenset({1, 3, 6, 7, 8}): 594, frozenset({1, 3, 6, 7, 9}): 760, frozenset({1, 3, 6, 8, 9}): 562, frozenset({1, 3, 7, 8, 9}): 728, frozenset({1, 4, 5, 6, 7}): 745, frozenset({1, 4, 5, 6, 8}): 705, frozenset({1, 4, 5, 6, 9}): 748, frozenset({1, 4, 5, 7, 8}): 759, frozenset({1, 4, 5, 7, 9}): 888, frozenset({1, 4, 5, 8, 9}): 825, frozenset({1, 4, 6, 7, 8}): 581, frozenset({1, 4, 6, 7, 9}): 727, frozenset({1, 4, 6, 8, 9}): 583, frozenset({1, 4, 7, 8, 9}): 680, frozenset({1, 5, 6, 7, 8}): 712, frozenset({1, 5, 6, 7, 9}): 841, frozenset({1, 5, 6, 8, 9}): 715, frozenset({1, 5, 7, 8, 9}): 855, frozenset({1, 6, 7, 8, 9}): 676, frozenset({2, 3, 4, 5, 6}): 687, frozenset({2, 3, 4, 5, 7}): 773, frozenset({2, 3, 4, 5, 8}): 662, frozenset({2, 3, 4, 5, 9}): 661, frozenset({2, 3, 4, 6, 7}): 707, frozenset({2, 3, 4, 6, 8}): 515, frozenset({2, 3, 4, 6, 9}): 531, frozenset({2, 3, 4, 7, 8}): 558, frozenset({2, 3, 4, 7, 9}): 660, frozenset({2, 3, 4, 8, 9}): 445, frozenset({2, 3, 5, 6, 7}): 860, frozenset({2, 3, 5, 6, 8}): 686, frozenset({2, 3, 5, 6, 9}): 685, frozenset({2, 3, 5, 7, 8}): 772, frozenset({2, 3, 5, 7, 9}): 857, frozenset({2, 3, 5, 8, 9}): 660, frozenset({2, 3, 6, 7, 8}): 688, frozenset({2, 3, 6, 7, 9}): 790, frozenset({2, 3, 6, 8, 9}): 512, frozenset({2, 3, 7, 8, 9}): 641, frozenset({2, 4, 5, 6, 7}): 808, frozenset({2, 4, 5, 6, 8}): 688, frozenset({2, 4, 5, 6, 9}): 667, frozenset({2, 4, 5, 7, 8}): 705, frozenset({2, 4, 5, 7, 9}): 770, frozenset({2, 4, 5, 8, 9}): 627, frozenset({2, 4, 6, 7, 8}): 618, frozenset({2, 4, 6, 7, 9}): 700, frozenset({2, 4, 6, 8, 9}): 476, frozenset({2, 4, 7, 8, 9}): 536, frozenset({2, 5, 6, 7, 8}): 792, frozenset({2, 5, 6, 7, 9}): 857, frozenset({2, 5, 6, 8, 9}): 651, frozenset({2, 5, 7, 8, 9}): 754, frozenset({2, 6, 7, 8, 9}): 666, frozenset({3, 4, 5, 6, 7}): 689, frozenset({3, 4, 5, 6, 8}): 595, frozenset({3, 4, 5, 6, 9}): 594, frozenset({3, 4, 5, 7, 8}): 685, frozenset({3, 4, 5, 7, 9}): 770, frozenset({3, 4, 5, 8, 9}): 653, frozenset({3, 4, 6, 7, 8}): 531, frozenset({3, 4, 6, 7, 9}): 633, frozenset({3, 4, 6, 8, 9}): 435, frozenset({3, 4, 7, 8, 9}): 568, frozenset({3, 5, 6, 7, 8}): 688, frozenset({3, 5, 6, 7, 9}): 773, frozenset({3, 5, 6, 8, 9}): 593, frozenset({3, 5, 7, 8, 9}): 769, frozenset({3, 6, 7, 8, 9}): 614, frozenset({4, 5, 6, 7, 8}): 628, frozenset({4, 5, 6, 7, 9}): 693, frozenset({4, 5, 6, 8, 9}): 567, frozenset({4, 5, 7, 8, 9}): 674, frozenset({4, 6, 7, 8, 9}): 516, frozenset({5, 6, 7, 8, 9}): 677, frozenset({0, 1, 2, 3, 4, 5}): 889, frozenset({0, 1, 2, 3, 4, 6}): 780, frozenset({0, 1, 2, 3, 4, 7}): 815, frozenset({0, 1, 2, 3, 4, 8}): 737, frozenset({0, 1, 2, 3, 4, 9}): 766, frozenset({0, 1, 2, 3, 5, 6}): 904, frozenset({0, 1, 2, 3, 5, 7}): 982, frozenset({0, 1, 2, 3, 5, 8}): 922, frozenset({0, 1, 2, 3, 5, 9}): 934, frozenset({0, 1, 2, 3, 6, 7}): 936, frozenset({0, 1, 2, 3, 6, 8}): 795, frozenset({0, 1, 2, 3, 6, 9}): 824, frozenset({0, 1, 2, 3, 7, 8}): 830, frozenset({0, 1, 2, 3, 7, 9}): 945, frozenset({0, 1, 2, 3, 8, 9}): 781, frozenset({0, 1, 2, 4, 5, 6}): 969, frozenset({0, 1, 2, 4, 5, 7}): 978, frozenset({0, 1, 2, 4, 5, 8}): 972, frozenset({0, 1, 2, 4, 5, 9}): 964, frozenset({0, 1, 2, 4, 6, 7}): 929, frozenset({0, 1, 2, 4, 6, 8}): 842, frozenset({0, 1, 2, 4, 6, 9}): 851, frozenset({0, 1, 2, 4, 7, 8}): 808, frozenset({0, 1, 2, 4, 7, 9}): 903, frozenset({0, 1, 2, 4, 8, 9}): 793, frozenset({0, 1, 2, 5, 6, 7}): 1056, frozenset({0, 1, 2, 5, 6, 8}): 987, frozenset({0, 1, 2, 5, 6, 9}): 979, frozenset({0, 1, 2, 5, 7, 8}): 996, frozenset({0, 1, 2, 5, 7, 9}): 1074, frozenset({0, 1, 2, 5, 8, 9}): 982, frozenset({0, 1, 2, 6, 7, 8}): 929, frozenset({0, 1, 2, 6, 7, 9}): 1024, frozenset({0, 1, 2, 6, 8, 9}): 851, frozenset({0, 1, 2, 7, 8, 9}): 903, frozenset({0, 1, 3, 4, 5, 6}): 769, frozenset({0, 1, 3, 4, 5, 7}): 851, frozenset({0, 1, 3, 4, 5, 8}): 871, frozenset({0, 1, 3, 4, 5, 9}): 883, frozenset({0, 1, 3, 4, 6, 7}): 735, frozenset({0, 1, 3, 4, 6, 8}): 674, frozenset({0, 1, 3, 4, 6, 9}): 703, frozenset({0, 1, 3, 4, 7, 8}): 713, frozenset({0, 1, 3, 4, 7, 9}): 828, frozenset({0, 1, 3, 4, 8, 9}): 744, frozenset({0, 1, 3, 5, 6, 7}): 845, frozenset({0, 1, 3, 5, 6, 8}): 802, frozenset({0, 1, 3, 5, 6, 9}): 814, frozenset({0, 1, 3, 5, 7, 8}): 884, frozenset({0, 1, 3, 5, 7, 9}): 982, frozenset({0, 1, 3, 5, 8, 9}): 916, frozenset({0, 1, 3, 6, 7, 8}): 750, frozenset({0, 1, 3, 6, 7, 9}): 865, frozenset({0, 1, 3, 6, 8, 9}): 718, frozenset({0, 1, 3, 7, 8, 9}): 843, frozenset({0, 1, 4, 5, 6, 7}): 848, frozenset({0, 1, 4, 5, 6, 8}): 859, frozenset({0, 1, 4, 5, 6, 9}): 851, frozenset({0, 1, 4, 5, 7, 8}): 872, frozenset({0, 1, 4, 5, 7, 9}): 950, frozenset({0, 1, 4, 5, 8, 9}): 938, frozenset({0, 1, 4, 6, 7, 8}): 735, frozenset({0, 1, 4, 6, 7, 9}): 830, frozenset({0, 1, 4, 6, 8, 9}): 737, frozenset({0, 1, 4, 7, 8, 9}): 793, frozenset({0, 1, 5, 6, 7, 8}): 866, frozenset({0, 1, 5, 6, 7, 9}): 944, frozenset({0, 1, 5, 6, 8, 9}): 869, frozenset({0, 1, 5, 7, 8, 9}): 968, frozenset({0, 1, 6, 7, 8, 9}): 830, frozenset({0, 2, 3, 4, 5, 6}): 788, frozenset({0, 2, 3, 4, 5, 7}): 833, frozenset({0, 2, 3, 4, 5, 8}): 773, frozenset({0, 2, 3, 4, 5, 9}): 721, frozenset({0, 2, 3, 4, 6, 7}): 808, frozenset({0, 2, 3, 4, 6, 8}): 667, frozenset({0, 2, 3, 4, 6, 9}): 632, frozenset({0, 2, 3, 4, 7, 8}): 669, frozenset({0, 2, 3, 4, 7, 9}): 720, frozenset({0, 2, 3, 4, 8, 9}): 556, frozenset({0, 2, 3, 5, 6, 7}): 961, frozenset({0, 2, 3, 5, 6, 8}): 838, frozenset({0, 2, 3, 5, 6, 9}): 786, frozenset({0, 2, 3, 5, 7, 8}): 883, frozenset({0, 2, 3, 5, 7, 9}): 917, frozenset({0, 2, 3, 5, 8, 9}): 771, frozenset({0, 2, 3, 6, 7, 8}): 840, frozenset({0, 2, 3, 6, 7, 9}): 891, frozenset({0, 2, 3, 6, 8, 9}): 664, frozenset({0, 2, 3, 7, 8, 9}): 752, frozenset({0, 2, 4, 5, 6, 7}): 907, frozenset({0, 2, 4, 5, 6, 8}): 838, frozenset({0, 2, 4, 5, 6, 9}): 766, frozenset({0, 2, 4, 5, 7, 8}): 814, frozenset({0, 2, 4, 5, 7, 9}): 828, frozenset({0, 2, 4, 5, 8, 9}): 736, frozenset({0, 2, 4, 6, 7, 8}): 768, frozenset({0, 2, 4, 6, 7, 9}): 799, frozenset({0, 2, 4, 6, 8, 9}): 626, frozenset({0, 2, 4, 7, 8, 9}): 645, frozenset({0, 2, 5, 6, 7, 8}): 942, frozenset({0, 2, 5, 6, 7, 9}): 956, frozenset({0, 2, 5, 6, 8, 9}): 801, frozenset({0, 2, 5, 7, 8, 9}): 863, frozenset({0, 2, 6, 7, 8, 9}): 816, frozenset({0, 3, 4, 5, 6, 7}): 790, frozenset({0, 3, 4, 5, 6, 8}): 747, frozenset({0, 3, 4, 5, 6, 9}): 695, frozenset({0, 3, 4, 5, 7, 8}): 796, frozenset({0, 3, 4, 5, 7, 9}): 830, frozenset({0, 3, 4, 5, 8, 9}): 764, frozenset({0, 3, 4, 6, 7, 8}): 683, frozenset({0, 3, 4, 6, 7, 9}): 734, frozenset({0, 3, 4, 6, 8, 9}): 587, frozenset({0, 3, 4, 7, 8, 9}): 679, frozenset({0, 3, 5, 6, 7, 8}): 840, frozenset({0, 3, 5, 6, 7, 9}): 874, frozenset({0, 3, 5, 6, 8, 9}): 745, frozenset({0, 3, 5, 7, 8, 9}): 880, frozenset({0, 3, 6, 7, 8, 9}): 766, frozenset({0, 4, 5, 6, 7, 8}): 778, frozenset({0, 4, 5, 6, 7, 9}): 792, frozenset({0, 4, 5, 6, 8, 9}): 717, frozenset({0, 4, 5, 7, 8, 9}): 783, frozenset({0, 4, 6, 7, 8, 9}): 666, frozenset({0, 5, 6, 7, 8, 9}): 827, frozenset({1, 2, 3, 4, 5, 6}): 1005, frozenset({1, 2, 3, 4, 5, 7}): 1124, frozenset({1, 2, 3, 4, 5, 8}): 1013, frozenset({1, 2, 3, 4, 5, 9}): 1076, frozenset({1, 2, 3, 4, 6, 7}): 980, frozenset({1, 2, 3, 4, 6, 8}): 788, frozenset({1, 2, 3, 4, 6, 9}): 868, frozenset({1, 2, 3, 4, 7, 8}): 864, frozenset({1, 2, 3, 4, 7, 9}): 1030, frozenset({1, 2, 3, 4, 8, 9}): 815, frozenset({1, 2, 3, 5, 6, 7}): 1161, frozenset({1, 2, 3, 5, 6, 8}): 987, frozenset({1, 2, 3, 5, 6, 9}): 1050, frozenset({1, 2, 3, 5, 7, 8}): 1106, frozenset({1, 2, 3, 5, 7, 9}): 1255, frozenset({1, 2, 3, 5, 8, 9}): 1058, frozenset({1, 2, 3, 6, 7, 8}): 944, frozenset({1, 2, 3, 6, 7, 9}): 1110, frozenset({1, 2, 3, 6, 8, 9}): 832, frozenset({1, 2, 3, 7, 8, 9}): 994, frozenset({1, 2, 4, 5, 6, 7}): 1159, frozenset({1, 2, 4, 5, 6, 8}): 1039, frozenset({1, 2, 4, 5, 6, 9}): 1082, frozenset({1, 2, 4, 5, 7, 8}): 1089, frozenset({1, 2, 4, 5, 7, 9}): 1218, frozenset({1, 2, 4, 5, 8, 9}): 1075, frozenset({1, 2, 4, 6, 7, 8}): 924, frozenset({1, 2, 4, 6, 7, 9}): 1070, frozenset({1, 2, 4, 6, 8, 9}): 846, frozenset({1, 2, 4, 7, 8, 9}): 939, frozenset({1, 2, 5, 6, 7, 8}): 1126, frozenset({1, 2, 5, 6, 7, 9}): 1255, frozenset({1, 2, 5, 6, 8, 9}): 1049, frozenset({1, 2, 5, 7, 8, 9}): 1185, frozenset({1, 2, 6, 7, 8, 9}): 1019, frozenset({1, 3, 4, 5, 6, 7}): 946, frozenset({1, 3, 4, 5, 6, 8}): 852, frozenset({1, 3, 4, 5, 6, 9}): 915, frozenset({1, 3, 4, 5, 7, 8}): 975, frozenset({1, 3, 4, 5, 7, 9}): 1124, frozenset({1, 3, 4, 5, 8, 9}): 1007, frozenset({1, 3, 4, 6, 7, 8}): 743, frozenset({1, 3, 4, 6, 7, 9}): 909, frozenset({1, 3, 4, 6, 8, 9}): 711, frozenset({1, 3, 4, 7, 8, 9}): 877, frozenset({1, 3, 5, 6, 7, 8}): 928, frozenset({1, 3, 5, 6, 7, 9}): 1077, frozenset({1, 3, 5, 6, 8, 9}): 897, frozenset({1, 3, 5, 7, 8, 9}): 1106, frozenset({1, 3, 6, 7, 8, 9}): 873, frozenset({1, 4, 5, 6, 7, 8}): 918, frozenset({1, 4, 5, 6, 7, 9}): 1047, frozenset({1, 4, 5, 6, 8, 9}): 921, frozenset({1, 4, 5, 7, 8, 9}): 1061, frozenset({1, 4, 6, 7, 8, 9}): 825, frozenset({1, 5, 6, 7, 8, 9}): 1014, frozenset({2, 3, 4, 5, 6, 7}): 1016, frozenset({2, 3, 4, 5, 6, 8}): 842, frozenset({2, 3, 4, 5, 6, 9}): 841, frozenset({2, 3, 4, 5, 7, 8}): 928, frozenset({2, 3, 4, 5, 7, 9}): 1013, frozenset({2, 3, 4, 5, 8, 9}): 816, frozenset({2, 3, 4, 6, 7, 8}): 787, frozenset({2, 3, 4, 6, 7, 9}): 889, frozenset({2, 3, 4, 6, 8, 9}): 611, frozenset({2, 3, 4, 7, 8, 9}): 740, frozenset({2, 3, 5, 6, 7, 8}): 1015, frozenset({2, 3, 5, 6, 7, 9}): 1100, frozenset({2, 3, 5, 6, 8, 9}): 840, frozenset({2, 3, 5, 7, 8, 9}): 1012, frozenset({2, 3, 6, 7, 8, 9}): 870, frozenset({2, 4, 5, 6, 7, 8}): 948, frozenset({2, 4, 5, 6, 7, 9}): 1013, frozenset({2, 4, 5, 6, 8, 9}): 807, frozenset({2, 4, 5, 7, 8, 9}): 910, frozenset({2, 4, 6, 7, 8, 9}): 765, frozenset({2, 5, 6, 7, 8, 9}): 997, frozenset({3, 4, 5, 6, 7, 8}): 844, frozenset({3, 4, 5, 6, 7, 9}): 929, frozenset({3, 4, 5, 6, 8, 9}): 749, frozenset({3, 4, 5, 7, 8, 9}): 925, frozenset({3, 4, 6, 7, 8, 9}): 713, frozenset({3, 5, 6, 7, 8, 9}): 928, frozenset({4, 5, 6, 7, 8, 9}): 833, frozenset({0, 1, 2, 3, 4, 5, 6}): 1110, frozenset({0, 1, 2, 3, 4, 5, 7}): 1188, frozenset({0, 1, 2, 3, 4, 5, 8}): 1128, frozenset({0, 1, 2, 3, 4, 5, 9}): 1140, frozenset({0, 1, 2, 3, 4, 6, 7}): 1085, frozenset({0, 1, 2, 3, 4, 6, 8}): 944, frozenset({0, 1, 2, 3, 4, 6, 9}): 973, frozenset({0, 1, 2, 3, 4, 7, 8}): 979, frozenset({0, 1, 2, 3, 4, 7, 9}): 1094, frozenset({0, 1, 2, 3, 4, 8, 9}): 930, frozenset({0, 1, 2, 3, 5, 6, 7}): 1266, frozenset({0, 1, 2, 3, 5, 6, 8}): 1143, frozenset({0, 1, 2, 3, 5, 6, 9}): 1155, frozenset({0, 1, 2, 3, 5, 7, 8}): 1221, frozenset({0, 1, 2, 3, 5, 7, 9}): 1319, frozenset({0, 1, 2, 3, 5, 8, 9}): 1173, frozenset({0, 1, 2, 3, 6, 7, 8}): 1100, frozenset({0, 1, 2, 3, 6, 7, 9}): 1215, frozenset({0, 1, 2, 3, 6, 8, 9}): 988, frozenset({0, 1, 2, 3, 7, 8, 9}): 1109, frozenset({0, 1, 2, 4, 5, 6, 7}): 1262, frozenset({0, 1, 2, 4, 5, 6, 8}): 1193, frozenset({0, 1, 2, 4, 5, 6, 9}): 1185, frozenset({0, 1, 2, 4, 5, 7, 8}): 1202, frozenset({0, 1, 2, 4, 5, 7, 9}): 1280, frozenset({0, 1, 2, 4, 5, 8, 9}): 1188, frozenset({0, 1, 2, 4, 6, 7, 8}): 1078, frozenset({0, 1, 2, 4, 6, 7, 9}): 1173, frozenset({0, 1, 2, 4, 6, 8, 9}): 1000, frozenset({0, 1, 2, 4, 7, 8, 9}): 1052, frozenset({0, 1, 2, 5, 6, 7, 8}): 1280, frozenset({0, 1, 2, 5, 6, 7, 9}): 1358, frozenset({0, 1, 2, 5, 6, 8, 9}): 1203, frozenset({0, 1, 2, 5, 7, 8, 9}): 1298, frozenset({0, 1, 2, 6, 7, 8, 9}): 1173, frozenset({0, 1, 3, 4, 5, 6, 7}): 1051, frozenset({0, 1, 3, 4, 5, 6, 8}): 1008, frozenset({0, 1, 3, 4, 5, 6, 9}): 1020, frozenset({0, 1, 3, 4, 5, 7, 8}): 1090, frozenset({0, 1, 3, 4, 5, 7, 9}): 1188, frozenset({0, 1, 3, 4, 5, 8, 9}): 1122, frozenset({0, 1, 3, 4, 6, 7, 8}): 899, frozenset({0, 1, 3, 4, 6, 7, 9}): 1014, frozenset({0, 1, 3, 4, 6, 8, 9}): 867, frozenset({0, 1, 3, 4, 7, 8, 9}): 992, frozenset({0, 1, 3, 5, 6, 7, 8}): 1084, frozenset({0, 1, 3, 5, 6, 7, 9}): 1182, frozenset({0, 1, 3, 5, 6, 8, 9}): 1053, frozenset({0, 1, 3, 5, 7, 8, 9}): 1221, frozenset({0, 1, 3, 6, 7, 8, 9}): 1029, frozenset({0, 1, 4, 5, 6, 7, 8}): 1072, frozenset({0, 1, 4, 5, 6, 7, 9}): 1150, frozenset({0, 1, 4, 5, 6, 8, 9}): 1075, frozenset({0, 1, 4, 5, 7, 8, 9}): 1174, frozenset({0, 1, 4, 6, 7, 8, 9}): 979, frozenset({0, 1, 5, 6, 7, 8, 9}): 1168, frozenset({0, 2, 3, 4, 5, 6, 7}): 1117, frozenset({0, 2, 3, 4, 5, 6, 8}): 994, frozenset({0, 2, 3, 4, 5, 6, 9}): 942, frozenset({0, 2, 3, 4, 5, 7, 8}): 1039, frozenset({0, 2, 3, 4, 5, 7, 9}): 1073, frozenset({0, 2, 3, 4, 5, 8, 9}): 927, frozenset({0, 2, 3, 4, 6, 7, 8}): 939, frozenset({0, 2, 3, 4, 6, 7, 9}): 990, frozenset({0, 2, 3, 4, 6, 8, 9}): 763, frozenset({0, 2, 3, 4, 7, 8, 9}): 851, frozenset({0, 2, 3, 5, 6, 7, 8}): 1167, frozenset({0, 2, 3, 5, 6, 7, 9}): 1201, frozenset({0, 2, 3, 5, 6, 8, 9}): 992, frozenset({0, 2, 3, 5, 7, 8, 9}): 1123, frozenset({0, 2, 3, 6, 7, 8, 9}): 1022, frozenset({0, 2, 4, 5, 6, 7, 8}): 1098, frozenset({0, 2, 4, 5, 6, 7, 9}): 1112, frozenset({0, 2, 4, 5, 6, 8, 9}): 957, frozenset({0, 2, 4, 5, 7, 8, 9}): 1019, frozenset({0, 2, 4, 6, 7, 8, 9}): 915, frozenset({0, 2, 5, 6, 7, 8, 9}): 1147, frozenset({0, 3, 4, 5, 6, 7, 8}): 996, frozenset({0, 3, 4, 5, 6, 7, 9}): 1030, frozenset({0, 3, 4, 5, 6, 8, 9}): 901, frozenset({0, 3, 4, 5, 7, 8, 9}): 1036, frozenset({0, 3, 4, 6, 7, 8, 9}): 865, frozenset({0, 3, 5, 6, 7, 8, 9}): 1080, frozenset({0, 4, 5, 6, 7, 8, 9}): 983, frozenset({1, 2, 3, 4, 5, 6, 7}): 1367, frozenset({1, 2, 3, 4, 5, 6, 8}): 1193, frozenset({1, 2, 3, 4, 5, 6, 9}): 1256, frozenset({1, 2, 3, 4, 5, 7, 8}): 1312, frozenset({1, 2, 3, 4, 5, 7, 9}): 1461, frozenset({1, 2, 3, 4, 5, 8, 9}): 1264, frozenset({1, 2, 3, 4, 6, 7, 8}): 1093, frozenset({1, 2, 3, 4, 6, 7, 9}): 1259, frozenset({1, 2, 3, 4, 6, 8, 9}): 981, frozenset({1, 2, 3, 4, 7, 8, 9}): 1143, frozenset({1, 2, 3, 5, 6, 7, 8}): 1349, frozenset({1, 2, 3, 5, 6, 7, 9}): 1498, frozenset({1, 2, 3, 5, 6, 8, 9}): 1238, frozenset({1, 2, 3, 5, 7, 8, 9}): 1443, frozenset({1, 2, 3, 6, 7, 8, 9}): 1223, frozenset({1, 2, 4, 5, 6, 7, 8}): 1332, frozenset({1, 2, 4, 5, 6, 7, 9}): 1461, frozenset({1, 2, 4, 5, 6, 8, 9}): 1255, frozenset({1, 2, 4, 5, 7, 8, 9}): 1391, frozenset({1, 2, 4, 6, 7, 8, 9}): 1168, frozenset({1, 2, 5, 6, 7, 8, 9}): 1428, frozenset({1, 3, 4, 5, 6, 7, 8}): 1134, frozenset({1, 3, 4, 5, 6, 7, 9}): 1283, frozenset({1, 3, 4, 5, 6, 8, 9}): 1103, frozenset({1, 3, 4, 5, 7, 8, 9}): 1312, frozenset({1, 3, 4, 6, 7, 8, 9}): 1022, frozenset({1, 3, 5, 6, 7, 8, 9}): 1265, frozenset({1, 4, 5, 6, 7, 8, 9}): 1220, frozenset({2, 3, 4, 5, 6, 7, 8}): 1171, frozenset({2, 3, 4, 5, 6, 7, 9}): 1256, frozenset({2, 3, 4, 5, 6, 8, 9}): 996, frozenset({2, 3, 4, 5, 7, 8, 9}): 1168, frozenset({2, 3, 4, 6, 7, 8, 9}): 969, frozenset({2, 3, 5, 6, 7, 8, 9}): 1255, frozenset({2, 4, 5, 6, 7, 8, 9}): 1153, frozenset({3, 4, 5, 6, 7, 8, 9}): 1084, frozenset({0, 1, 2, 3, 4, 5, 6, 7}): 1472, frozenset({0, 1, 2, 3, 4, 5, 6, 8}): 1349, frozenset({0, 1, 2, 3, 4, 5, 6, 9}): 1361, frozenset({0, 1, 2, 3, 4, 5, 7, 8}): 1427, frozenset({0, 1, 2, 3, 4, 5, 7, 9}): 1525, frozenset({0, 1, 2, 3, 4, 5, 8, 9}): 1379, frozenset({0, 1, 2, 3, 4, 6, 7, 8}): 1249, frozenset({0, 1, 2, 3, 4, 6, 7, 9}): 1364, frozenset({0, 1, 2, 3, 4, 6, 8, 9}): 1137, frozenset({0, 1, 2, 3, 4, 7, 8, 9}): 1258, frozenset({0, 1, 2, 3, 5, 6, 7, 8}): 1505, frozenset({0, 1, 2, 3, 5, 6, 7, 9}): 1603, frozenset({0, 1, 2, 3, 5, 6, 8, 9}): 1394, frozenset({0, 1, 2, 3, 5, 7, 8, 9}): 1558, frozenset({0, 1, 2, 3, 6, 7, 8, 9}): 1379, frozenset({0, 1, 2, 4, 5, 6, 7, 8}): 1486, frozenset({0, 1, 2, 4, 5, 6, 7, 9}): 1564, frozenset({0, 1, 2, 4, 5, 6, 8, 9}): 1409, frozenset({0, 1, 2, 4, 5, 7, 8, 9}): 1504, frozenset({0, 1, 2, 4, 6, 7, 8, 9}): 1322, frozenset({0, 1, 2, 5, 6, 7, 8, 9}): 1582, frozenset({0, 1, 3, 4, 5, 6, 7, 8}): 1290, frozenset({0, 1, 3, 4, 5, 6, 7, 9}): 1388, frozenset({0, 1, 3, 4, 5, 6, 8, 9}): 1259, frozenset({0, 1, 3, 4, 5, 7, 8, 9}): 1427, frozenset({0, 1, 3, 4, 6, 7, 8, 9}): 1178, frozenset({0, 1, 3, 5, 6, 7, 8, 9}): 1421, frozenset({0, 1, 4, 5, 6, 7, 8, 9}): 1374, frozenset({0, 2, 3, 4, 5, 6, 7, 8}): 1323, frozenset({0, 2, 3, 4, 5, 6, 7, 9}): 1357, frozenset({0, 2, 3, 4, 5, 6, 8, 9}): 1148, frozenset({0, 2, 3, 4, 5, 7, 8, 9}): 1279, frozenset({0, 2, 3, 4, 6, 7, 8, 9}): 1121, frozenset({0, 2, 3, 5, 6, 7, 8, 9}): 1407, frozenset({0, 2, 4, 5, 6, 7, 8, 9}): 1303, frozenset({0, 3, 4, 5, 6, 7, 8, 9}): 1236, frozenset({1, 2, 3, 4, 5, 6, 7, 8}): 1555, frozenset({1, 2, 3, 4, 5, 6, 7, 9}): 1704, frozenset({1, 2, 3, 4, 5, 6, 8, 9}): 1444, frozenset({1, 2, 3, 4, 5, 7, 8, 9}): 1649, frozenset({1, 2, 3, 4, 6, 7, 8, 9}): 1372, frozenset({1, 2, 3, 5, 6, 7, 8, 9}): 1686, frozenset({1, 2, 4, 5, 6, 7, 8, 9}): 1634, frozenset({1, 3, 4, 5, 6, 7, 8, 9}): 1471, frozenset({2, 3, 4, 5, 6, 7, 8, 9}): 1411, frozenset({0, 1, 2, 3, 4, 5, 6, 7, 8}): 1711, frozenset({0, 1, 2, 3, 4, 5, 6, 7, 9}): 1809, frozenset({0, 1, 2, 3, 4, 5, 6, 8, 9}): 1600, frozenset({0, 1, 2, 3, 4, 5, 7, 8, 9}): 1764, frozenset({0, 1, 2, 3, 4, 6, 7, 8, 9}): 1528, frozenset({0, 1, 2, 3, 5, 6, 7, 8, 9}): 1842, frozenset({0, 1, 2, 4, 5, 6, 7, 8, 9}): 1788, frozenset({0, 1, 3, 4, 5, 6, 7, 8, 9}): 1627, frozenset({0, 2, 3, 4, 5, 6, 7, 8, 9}): 1563, frozenset({1, 2, 3, 4, 5, 6, 7, 8, 9}): 1892, frozenset({0, 1, 2, 3, 4, 5, 6, 7, 8, 9}): 2048, frozenset(): 0}\n",
            "{0: 107.0, 1: 290.5, 2: 253.0, 3: 169.0, 4: 152.5, 5: 288.0, 6: 183.0, 7: 254.0, 8: 152.0, 9: 199.0}\n",
            "The Shapley values are the same!\n"
          ]
        }
      ],
      "source": [
        "v = from_ISG_to_CFG(G)\n",
        "print(v)\n",
        "print(shapley(v))\n",
        "# Let's check that Shapley values computed with the ISG formula are the same Shapley value computed with the CFG formula\n",
        "if all([round(isg_s, 10) == round(cfg_s, 10) for isg_s, cfg_s in zip(shapley(v).values(), ISG_shapley_value(G).values())]):\n",
        "    print(\"The Shapley values are the same!\")"
      ]
    },
    {
      "cell_type": "code",
      "execution_count": 23,
      "metadata": {
        "id": "ByWOQ3ZJeHqa",
        "colab": {
          "base_uri": "https://localhost:8080/"
        },
        "outputId": "95e6c78b-af7d-4356-eff5-2ebfafe7dbb2"
      },
      "outputs": [
        {
          "output_type": "stream",
          "name": "stdout",
          "text": [
            "The compact ISG representation uses 48 bytes\n",
            "The naive CFG representation uses 36960 bytes\n"
          ]
        }
      ],
      "source": [
        "# Here is the beauty of compact representation. Our game can be represented with just 35 edges and weights on a graph with 10 nodes. The naive representation stores 1023 values!\n",
        "import sys\n",
        "print('The compact ISG representation uses %d bytes' %sys.getsizeof(G))\n",
        "print('The naive CFG representation uses %d bytes' %sys.getsizeof(v))"
      ]
    },
    {
      "cell_type": "markdown",
      "metadata": {
        "id": "_eR7FS1HeHqa"
      },
      "source": [
        "# Marginal Contribution Nets\n",
        "The last compact representation that we will study is the Marginal Contribution Nets (MC-nets, in short)<a name=\"cite_ref-1\"></a>[<sup>[1]</sup>](#cite_note-1). This compact representation uses a logic approach to represent games and can be seen as an extension of the induced subgraph games representation.</br>\n",
        "MC-nets represent coalitional games using sets of *rules* in the following syntactic form:\n",
        "\n",
        "$$Pattern \\longrightarrow value$$\n",
        "\n",
        "The value associated with a pattern is the marginal contribution of that pattern. A rule applies to a set of players $S$ if $S$ meets the requirements of the $Pattern$. These patterns can be represented by any logical formula over the players; but, in its most basic form, a pattern is a conjunction of players. $S$ meets the requirements of a given pattern if $S$ is a superset of it. The value of $S$ is defined as the sum over the values of all the rules that apply to $S$.\n",
        "\n",
        "For instance, let's consider the following game represented as an MC-net:\n",
        "\n",
        "$$\n",
        "    \\begin{aligned}\n",
        "        \\{a \\land b \\} \\longrightarrow 5 \\\\\n",
        "        \\{ b \\} \\longrightarrow 2\n",
        "    \\end{aligned}\n",
        "$$\n",
        "\n",
        "This game encodes the following characteristic function:\n",
        "\n",
        "$$ v(\\emptyset) = 0, \\qquad v(\\{a\\}) = 0, \\qquad v(\\{b\\}) = 2, \\qquad v(\\{a,b\\}) = 5 + 2 = 7 $$\n",
        "\n",
        "Now, it is possible to show that if we allow negative values or negative literals in the patterns (i.e. rules such as $\\{p \\land \\neg q \\longrightarrow value\\}$), MC-nets can represent any coalitional game. Therefore, this compact representation is complete!\n",
        "\n",
        "MC-nets have a graphical interpretation. Each rule describes a clique (that is, a fully connected graph) where the nodes are the players in the pattern and the edges of the clique are weighted accordingly to the value associated with said pattern. More interestingly, however, MC-nets can naturally be represented as hypergraphs. Hypergraphs are generalisations of graphs, where hyperedges can connect more than two nodes at once. In the hypergraph representation, each pattern is an hyperedge weighted with the value associated to said pattern. As such, the MC-net is a natural generalisation of the induced subgraph game representation we have seen before. Since we can treat each rule as a standalone game, in order to compute the Shapley value for the whole game we can take advantage of the additivity property of the Shapley values. We can compute the Shapley value of a player in an MC-net representation by summing over the Shapley values for said player computed for each rule. If we allow for negative values, we can compute the Shapley value of a player $i$ as follows:\n",
        "\n",
        "$$\\phi_i = \\sum_{\\varphi \\longrightarrow x \\in rs_i} \\frac{x}{|\\varphi|}$$\n",
        "\n",
        "where $\\varphi \\longrightarrow x$ is a rule in the form $Pattern \\longrightarrow value$; $rs_i$ is the set of rules that apply to player $i$, and $|\\varphi|$ is the cardinality (i.e. the number of players) of the pattern $\\varphi$.\n",
        "\n",
        "While in Python there are many libraries for graph analysis and manipulation, the same could not be said for hypergraphs, until some years ago. I have recently found that, since 2020, two Python libraries for hypergraph analysis and manipulation have been developed: HyperNetX, and hypergraphx. These libraries seem to be quite well developed, well maintained, and stable. So, we could implement MC-nets directly as hypergraphs. However, we will take a different, more naive, approach to implement MC-nets. I leave it to you, as a self-study homework, to implement MC-nets as hypergraphs.</br>\n",
        "In the following, we are going to implement MC-nets simply as sets of rules. Each rule will be encoded as a couple $(P, v)$ where $P$ is a set of players, intended as a conjunction of players, and $v$ is the value associated with $P$; $v$ can also be negative, so we can represent any game. As usual, we will implement a function to get the value of a coalition and a function to compute the Shapley values.\n",
        "\n",
        "\n",
        "<hr style=\"width:5%;text-align:left;margin-left:0\">\n",
        "\n",
        "<a name=\\cite_note-1\\></a>1. [^](#cite_ref-1): Ieong, S., & Shoham, Y. (2005, June). Marginal contribution nets: a compact representation scheme for coalitional games. In Proceedings of the 6th ACM Conference on Electronic Commerce (pp. 193-202)."
      ]
    },
    {
      "cell_type": "code",
      "execution_count": 29,
      "metadata": {
        "id": "w3cYTsBSeHqa"
      },
      "outputs": [],
      "source": [
        "# We can represent the airport game defined by the cost vector c=(5, 7, 10) as follow.\n",
        "MC_net = [\n",
        "    ({\"A\"}, 5),\n",
        "    ({\"B\"}, 7),\n",
        "    ({\"C\"}, 10),\n",
        "    ({\"A\", \"B\"}, -5),\n",
        "    ({\"A\", \"C\"}, -5),\n",
        "    ({\"B\", \"C\"}, -7),\n",
        "    ({\"A\", \"B\", \"C\"}, 5)\n",
        "]"
      ]
    },
    {
      "cell_type": "code",
      "execution_count": 30,
      "metadata": {
        "id": "RQG6eRWeeHqa",
        "colab": {
          "base_uri": "https://localhost:8080/"
        },
        "outputId": "7faecbc0-45da-400c-e6ca-6a8f90b26040"
      },
      "outputs": [
        {
          "output_type": "stream",
          "name": "stdout",
          "text": [
            "{'B', 'A', 'C'} is a superset of {'A'}\n",
            "{'B', 'A', 'C'} is a superset of {'B'}\n",
            "{'B', 'A', 'C'} is a superset of {'C'}\n",
            "{'B', 'A', 'C'} is a superset of {'B', 'A'}\n",
            "{'B', 'A', 'C'} is a superset of {'A', 'C'}\n",
            "{'B', 'A', 'C'} is a superset of {'B', 'C'}\n",
            "{'B', 'A', 'C'} is a superset of {'B', 'A', 'C'}\n"
          ]
        }
      ],
      "source": [
        "# To find the value of a coalition we need to iterate through all the rules in the MC-net and adding all the values for the rules which apply.\n",
        "# A rule applies to a coalition if the coalition is a superset of the pattern. Sets, in Python, provide such a function.\n",
        "coalition = set([\"A\", \"B\", \"C\"])\n",
        "for rule in MC_net:\n",
        "    if coalition.issuperset(rule[0]):\n",
        "        print(coalition, 'is a superset of', rule[0])"
      ]
    },
    {
      "cell_type": "code",
      "execution_count": 32,
      "metadata": {
        "id": "LBk7PmBYeHqa"
      },
      "outputs": [],
      "source": [
        "# A function to compute the value of a coalition\n",
        "def MC_net_coalition_value(MC_net, coalition):\n",
        "    value = 0\n",
        "    for rule in MC_net:\n",
        "      if coalition.issuperset(rule[0]):\n",
        "        value += rule[1]\n",
        "    return value"
      ]
    },
    {
      "cell_type": "code",
      "execution_count": 52,
      "metadata": {
        "id": "SCAiKysKeHqa"
      },
      "outputs": [],
      "source": [
        "# A function to compute the Shapley value for MC-nets\n",
        "def extract_players(MC_net):\n",
        "    return [list(rule[0])[0] for rule in MC_net if len(rule[0]) == 1]\n",
        "\n",
        "def MC_net_shapley_value(MC_net):\n",
        "    players_list = extract_players(MC_net)\n",
        "    shapley_values = {player: 0 for player in players_list}\n",
        "\n",
        "    for player in players_list:\n",
        "      for rule in MC_net:\n",
        "        if rule[0].issuperset(set(player)):\n",
        "          shapley_values[player] += rule[1]/len(rule[0])\n",
        "\n",
        "    return shapley_values"
      ]
    },
    {
      "cell_type": "code",
      "execution_count": 48,
      "metadata": {
        "id": "T-6-qJIPeHqa",
        "colab": {
          "base_uri": "https://localhost:8080/"
        },
        "outputId": "e47980e1-9077-4a18-ffc2-1231c9964821"
      },
      "outputs": [
        {
          "output_type": "execute_result",
          "data": {
            "text/plain": [
              "10"
            ]
          },
          "metadata": {},
          "execution_count": 48
        }
      ],
      "source": [
        "MC_net_coalition_value(MC_net, {\"A\", \"C\"})"
      ]
    },
    {
      "cell_type": "markdown",
      "metadata": {
        "id": "TC54BCcieHqa"
      },
      "source": [
        "Similarly to what we have done for the induced subgraph games, we now write a function to transform an MC-net into a characteristic function.\n",
        "As usual, we just need to generate all the partitions of the set of players, compute their value, and organise everything in a dictionary.\n",
        "This results in another one-liner."
      ]
    },
    {
      "cell_type": "code",
      "execution_count": 47,
      "metadata": {
        "id": "BwnXizqneHqb"
      },
      "outputs": [],
      "source": [
        "def from_MC_net_to_CFG(MC_net):\n",
        "    return {coalition : (MC_net_coalition_value(MC_net, set(coalition)) if coalition != frozenset() else 0) for coalition in powerset(max(MC_net)[0])}"
      ]
    },
    {
      "cell_type": "code",
      "execution_count": 49,
      "metadata": {
        "id": "IXemHll0eHqb"
      },
      "outputs": [],
      "source": [
        "v = from_MC_net_to_CFG(MC_net)"
      ]
    },
    {
      "cell_type": "code",
      "execution_count": 50,
      "metadata": {
        "id": "bf76uBefeHqb",
        "colab": {
          "base_uri": "https://localhost:8080/"
        },
        "outputId": "e453b92e-7d36-480a-cca2-e97f666cd3ba"
      },
      "outputs": [
        {
          "output_type": "execute_result",
          "data": {
            "text/plain": [
              "{'B': 2.6666666667, 'A': 1.6666666667, 'C': 5.6666666667}"
            ]
          },
          "metadata": {},
          "execution_count": 50
        }
      ],
      "source": [
        "shapley(v)"
      ]
    },
    {
      "cell_type": "code",
      "execution_count": 53,
      "metadata": {
        "id": "_MaBYQs5eHqc",
        "colab": {
          "base_uri": "https://localhost:8080/"
        },
        "outputId": "0becfdab-9db5-46ae-92aa-27e54b5a8baf"
      },
      "outputs": [
        {
          "output_type": "execute_result",
          "data": {
            "text/plain": [
              "{'A': 1.6666666666666667, 'B': 2.666666666666667, 'C': 5.666666666666667}"
            ]
          },
          "metadata": {},
          "execution_count": 53
        }
      ],
      "source": [
        "MC_net_shapley_value(MC_net)"
      ]
    }
  ],
  "metadata": {
    "kernelspec": {
      "display_name": "tf",
      "language": "python",
      "name": "python3"
    },
    "language_info": {
      "codemirror_mode": {
        "name": "ipython",
        "version": 3
      },
      "file_extension": ".py",
      "mimetype": "text/x-python",
      "name": "python",
      "nbconvert_exporter": "python",
      "pygments_lexer": "ipython3",
      "version": "3.9.18"
    },
    "orig_nbformat": 4,
    "colab": {
      "provenance": []
    }
  },
  "nbformat": 4,
  "nbformat_minor": 0
}