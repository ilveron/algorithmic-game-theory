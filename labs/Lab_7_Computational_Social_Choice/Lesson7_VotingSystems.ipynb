{
  "cells": [
    {
      "cell_type": "markdown",
      "metadata": {
        "id": "qEIAa5JeQzY7"
      },
      "source": [
        "# Computational Social Choice\n",
        "Computational Social Choice deals with problems arising from the aggregation of preferences of a group of agents. It has important implications when considering voting systems and elections.\n",
        "While aggregating personal preferences or computing the winner of an election might seem easy or intuitive, voting systems and aggregation rules are vulnerable to manipulation strategies. In addition, voting aggregation rules should satisfy some desired properties, such as anonimity or being difficult to manipulate.\n",
        "\n",
        "Computational social choice uses an *axiomatic method* where desired properties are treated as axioms and and consequences are derived from axioms as theorems.\n",
        "Typically, there are two types of theorems that are derived in computational social choice:\n",
        "- **Representation theorems** where, given a set of axioms, the goal is to show that a particular class of mechanisms is the only one which satisfies the set of axioms;\n",
        "- **Impossibility theorems** where, given a set of axioms, the goal is to show that there exists no aggregation rule which satisfies the set of axioms.\n",
        "\n",
        "In this lab, we are going to study some voting aggregation rules, ranging from the most commonly employed to the ones which make the possibility of ties as unlikely as possible and which exhibit the highest resistance to manipulation strategies."
      ]
    },
    {
      "cell_type": "code",
      "execution_count": null,
      "metadata": {
        "id": "S4ex2bs9QzY_"
      },
      "outputs": [],
      "source": [
        "import random"
      ]
    },
    {
      "cell_type": "code",
      "execution_count": null,
      "metadata": {
        "colab": {
          "base_uri": "https://localhost:8080/"
        },
        "id": "ZFVhJ-_kQzZB",
        "outputId": "bcb5de0e-c48d-4b9f-e7e0-f4e2daf62b41"
      },
      "outputs": [
        {
          "output_type": "stream",
          "name": "stdout",
          "text": [
            "['C', 'B', 'D', 'A']\n",
            "['A', 'D', 'C', 'B']\n",
            "['D', 'B', 'C', 'A']\n",
            "['B', 'C', 'D', 'A']\n",
            "['C', 'D', 'A', 'B']\n",
            "['D', 'B', 'A', 'C']\n",
            "['A', 'B', 'D', 'C']\n",
            "['B', 'C', 'A', 'D']\n",
            "['B', 'A', 'C', 'D']\n",
            "['C', 'D', 'B', 'A']\n"
          ]
        }
      ],
      "source": [
        "random.seed(42)\n",
        "\n",
        "# Preferences are given as ordered lists of candidates\n",
        "C = ['A', 'B', 'C', 'D']\n",
        "\n",
        "# Generate N random permutations of C and we get preferences for N people!\n",
        "N = 10\n",
        "preferences = list()\n",
        "for i in range(N):\n",
        "    random.shuffle(C)\n",
        "    preferences.append(C.copy())\n",
        "\n",
        "for preference in preferences:\n",
        "    print(preference)"
      ]
    },
    {
      "cell_type": "markdown",
      "metadata": {
        "id": "Q3Dn5kqSQzZC"
      },
      "source": [
        "# Plurality Voting"
      ]
    },
    {
      "cell_type": "code",
      "execution_count": null,
      "metadata": {
        "id": "uf9M-l2BQzZD"
      },
      "outputs": [],
      "source": [
        "# Plurality vote elects the candidate ranked first more often\n",
        "def plurality_vote(preferences):\n",
        "    counts = {candidate: 0 for candidate in C}\n",
        "    for preference in preferences:\n",
        "      counts[preference[0]] += 1\n",
        "\n",
        "    winner = max(counts, key = counts.get)\n",
        "    return winner, counts"
      ]
    },
    {
      "cell_type": "code",
      "execution_count": null,
      "metadata": {
        "colab": {
          "base_uri": "https://localhost:8080/"
        },
        "id": "AlLyoHrbQzZE",
        "outputId": "9286cfa4-96ea-4c7e-da7d-ad207df9f670"
      },
      "outputs": [
        {
          "output_type": "stream",
          "name": "stdout",
          "text": [
            "The winner is: C\n",
            "{'C': 3, 'D': 2, 'B': 3, 'A': 2}\n"
          ]
        }
      ],
      "source": [
        "winner, counts = plurality_vote(preferences)\n",
        "print(\"The winner is:\", winner)\n",
        "\n",
        "# In this example, we actually have a tie between C and B\n",
        "\n",
        "print(counts)"
      ]
    },
    {
      "cell_type": "markdown",
      "metadata": {
        "id": "71ZHcPQIQzZE"
      },
      "source": [
        "# Borda counting"
      ]
    },
    {
      "cell_type": "code",
      "execution_count": null,
      "metadata": {
        "id": "BqHC-P0YQzZF"
      },
      "outputs": [],
      "source": [
        "# Borda counting\n",
        "def borda_vote(preferences):\n",
        "    counts = {candidate: 0 for candidate in C}\n",
        "    borda_votes = [len(preferences[0])-i-1 for i in range(len(preferences[0]))]\n",
        "\n",
        "    for preference in preferences:\n",
        "      for i in range(len(preference)):\n",
        "        counts[preference[i]] += borda_votes[i]\n",
        "\n",
        "    winner = max(counts, key = counts.get)\n",
        "    return winner, counts"
      ]
    },
    {
      "cell_type": "code",
      "execution_count": null,
      "metadata": {
        "colab": {
          "base_uri": "https://localhost:8080/"
        },
        "id": "AxghBYX3QzZF",
        "outputId": "8d0fc9aa-adbb-4ba4-ace1-95d34eee0cad"
      },
      "outputs": [
        {
          "output_type": "stream",
          "name": "stdout",
          "text": [
            "The winner is: B\n",
            "{'C': 16, 'D': 15, 'B': 18, 'A': 11}\n"
          ]
        }
      ],
      "source": [
        "winner, counts = borda_vote(preferences)\n",
        "print(\"The winner is:\", winner)\n",
        "\n",
        "# Borda method breaks does not have a tie between C and B and declares B the winner\n",
        "print(counts)"
      ]
    },
    {
      "cell_type": "markdown",
      "metadata": {
        "id": "Y_qWStAZQzZG"
      },
      "source": [
        "# Instant-runoff Voting"
      ]
    },
    {
      "cell_type": "code",
      "execution_count": null,
      "metadata": {
        "id": "tFt7gXsXQzZG"
      },
      "outputs": [],
      "source": [
        "def has_majority(preferences, counts):\n",
        "    return max(counts.values()) > len(preferences)//2\n",
        "\n",
        "\n",
        "# Instant-runoff\n",
        "def IRV(preferences):\n",
        "    global C\n",
        "    C_copy = C.copy()\n",
        "\n",
        "    # We make a copy of the preferences to avoid messing with the original matrix\n",
        "    preferences_copy = [preference.copy() for preference in preferences]\n",
        "\n",
        "    # We reuse the plurality_vote function made before to get the counts\n",
        "    _, counts = plurality_vote(preferences_copy)\n",
        "\n",
        "    while not has_majority(preferences_copy, counts):\n",
        "      candidate_to_remove = min(counts, key = counts.get)\n",
        "      C.remove(candidate_to_remove)\n",
        "\n",
        "      # We remove the candidate also from each preference in the preferences list\n",
        "      preferences_copy = [[candidate for candidate in preference if candidate in C] for preference in preferences_copy]\n",
        "      _, counts = plurality_vote(preferences_copy)\n",
        "\n",
        "    # Restore original candidates\n",
        "    C = C_copy.copy()\n",
        "\n",
        "    winner = max(counts, key = counts.get)\n",
        "    return winner, counts"
      ]
    },
    {
      "cell_type": "code",
      "execution_count": null,
      "metadata": {
        "colab": {
          "base_uri": "https://localhost:8080/"
        },
        "id": "1OgwjnlvQzZG",
        "outputId": "6777c9c0-7f13-4be2-ac4b-61337b792100"
      },
      "outputs": [
        {
          "output_type": "stream",
          "name": "stdout",
          "text": [
            "The winner is: B\n",
            "{'C': 4, 'B': 6}\n"
          ]
        }
      ],
      "source": [
        "winner, counts = IRV(preferences)\n",
        "print(\"The winner is:\", winner)\n",
        "\n",
        "# Instant-runoff breaks the tie between C and B and declares B the winner\n",
        "print(counts)"
      ]
    },
    {
      "cell_type": "markdown",
      "metadata": {
        "id": "K-S_wHDvQzZH"
      },
      "source": [
        "# Schulze Method"
      ]
    },
    {
      "cell_type": "code",
      "execution_count": null,
      "metadata": {
        "id": "lQYPR26jQzZH"
      },
      "outputs": [],
      "source": [
        "import networkx as nx\n",
        "from itertools import permutations\n",
        "import sys\n",
        "\n",
        "# Utils\n",
        "sorted_candidates = C.copy()\n",
        "sorted_candidates.sort()\n",
        "\n",
        "## Works only under the assumption that the candidates are always given in the form ['A','B','C',...]\n",
        "## (i.e., one char to represent the candidate, with subsequent candidates separated by 1 in the ASCII table)\n",
        "candidate_indexes = {candidate: ord(candidate)-ord(sorted_candidates[0]) for candidate in sorted_candidates}\n",
        "\n",
        "perms = [perm for perm in permutations(sorted_candidates, 2)]\n",
        "\n",
        "def get_graph_from_matrix(matrix):\n",
        "    G = nx.DiGraph()\n",
        "\n",
        "    for i in range(len(matrix)):\n",
        "      to_add = []\n",
        "      for j in range(len(matrix)):\n",
        "        if i != j:\n",
        "          to_add.append((sorted_candidates[i],sorted_candidates[j],matrix[i][j]))\n",
        "      G.add_weighted_edges_from(to_add)\n",
        "\n",
        "    return G\n",
        "\n",
        "# We could have made this function compute directly the DiGraph\n",
        "# But -as the exercise asks- we are gonna make it compute the matrix\n",
        "def compute_pairwise_matrix(preferences: list):\n",
        "    matrix = [[0 for _ in range(len(C))] for _ in range(len(C))]\n",
        "\n",
        "    for preference in preferences:\n",
        "      for c1, c2 in perms:\n",
        "        idx_c1 = candidate_indexes[c1]\n",
        "        idx_c2 = candidate_indexes[c2]\n",
        "        if preference.index(c1) < preference.index(c2):\n",
        "          matrix[idx_c1][idx_c2] += 1\n",
        "        else:   # Can't be equal then the candidate at idx i precedes the one at j\n",
        "          matrix[idx_c2][idx_c1] += 1\n",
        "    return matrix\n",
        "\n",
        "\n",
        "def all_pairs_widest_path(weighted_graph: nx.DiGraph):\n",
        "    matrix = [[0 for _ in range(len(C))] for _ in range(len(C))]\n",
        "    for c1, c2 in perms:\n",
        "      idx_c1 = candidate_indexes[c1]\n",
        "      idx_c2 = candidate_indexes[c2]\n",
        "\n",
        "      # If there exists a direct edge, assign its weight to var, otherwise assign 0\n",
        "      direct_weight = weighted_graph.get_edge_data(c1, c2, default=0)[\"weight\"]\n",
        "\n",
        "      for path in nx.all_simple_edge_paths(weighted_graph, c1, c2):\n",
        "        if len(path) == len(sorted_candidates) - 1:   # then it is the widest path\n",
        "          widest_path_min_weight = int(sys.maxsize)\n",
        "          for c1, c2 in path:   # every element of a path is an edge (src, dest)\n",
        "            weight = weighted_graph.get_edge_data(c1, c2)[\"weight\"]\n",
        "            widest_path_min_weight = min(widest_path_min_weight, weight)\n",
        "          break   # You can go to the next tuple at this point\n",
        "\n",
        "      matrix[idx_c1][idx_c2] = max(direct_weight, widest_path_min_weight)\n",
        "    return matrix\n",
        "\n",
        "\n",
        "def schulze_method(preferences: list):\n",
        "    pairwise_matrix = compute_pairwise_matrix(preferences)\n",
        "\n",
        "    G = get_graph_from_matrix(pairwise_matrix)\n",
        "\n",
        "    all_pairs_widest_path_matrix = all_pairs_widest_path(G)\n",
        "\n",
        "    counts = {candidate: sum(all_pairs_widest_path_matrix[candidate_indexes[candidate]]) for candidate in sorted_candidates}\n",
        "    winner = max(counts, key = counts.get)\n",
        "    return winner, counts"
      ]
    },
    {
      "cell_type": "code",
      "execution_count": null,
      "metadata": {
        "id": "i7Nsf5R0QzZI",
        "outputId": "3b569e60-1f18-4d66-9219-37176f8a758f",
        "colab": {
          "base_uri": "https://localhost:8080/"
        }
      },
      "outputs": [
        {
          "output_type": "stream",
          "name": "stdout",
          "text": [
            "The winner is: B\n",
            "{'A': 24, 'B': 36, 'C': 32, 'D': 30}\n"
          ]
        }
      ],
      "source": [
        "winner, counts = schulze_method(preferences)\n",
        "print(\"The winner is:\", winner)\n",
        "\n",
        "# The winner is B\n",
        "print(counts)"
      ]
    }
  ],
  "metadata": {
    "kernelspec": {
      "display_name": "Python 3",
      "name": "python3"
    },
    "language_info": {
      "codemirror_mode": {
        "name": "ipython",
        "version": 3
      },
      "file_extension": ".py",
      "mimetype": "text/x-python",
      "name": "python",
      "nbconvert_exporter": "python",
      "pygments_lexer": "ipython3",
      "version": "3.9.18"
    },
    "orig_nbformat": 4,
    "colab": {
      "provenance": []
    }
  },
  "nbformat": 4,
  "nbformat_minor": 0
}