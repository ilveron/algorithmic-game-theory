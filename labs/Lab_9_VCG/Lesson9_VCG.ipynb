{
  "cells": [
    {
      "cell_type": "markdown",
      "metadata": {
        "id": "dmvW7Sa4iVnj"
      },
      "source": [
        "# VCG\n",
        "\n",
        "Assume $n = 4$ items and $m = 5$ bidders. We solve the VCG mechanism for the most general (and harder) case of combinatorial auctions, and non additive bidders' evalutions. The other cases are easier case of this general case and will follow directly."
      ]
    },
    {
      "cell_type": "code",
      "execution_count": null,
      "metadata": {
        "id": "3nmVjQEaiVnk"
      },
      "outputs": [],
      "source": [
        "# Bidders' evaluations\n",
        "v = {\n",
        "    'a': {\n",
        "        frozenset({'A'}):2,\n",
        "        frozenset({'A', 'B'}):5,\n",
        "        frozenset({'B'}):2,\n",
        "        frozenset({'D'}):7\n",
        "    },\n",
        "    'b':{\n",
        "        frozenset({'C'}): 10,\n",
        "        frozenset({'D'}):8\n",
        "    },\n",
        "    'c':{\n",
        "        frozenset({'C', 'D'}):15,\n",
        "        frozenset({'D'}):10\n",
        "    },\n",
        "    'd':{\n",
        "        frozenset({'B', 'C'}):10,\n",
        "        frozenset({'B'}):8\n",
        "    },\n",
        "    'e':{\n",
        "        frozenset({'A', 'B'}):11,\n",
        "        frozenset({'A', 'B', 'C', 'D'}):20\n",
        "    }\n",
        "}"
      ]
    },
    {
      "cell_type": "code",
      "execution_count": null,
      "metadata": {
        "colab": {
          "base_uri": "https://localhost:8080/"
        },
        "id": "v0eArqGfiVnl",
        "outputId": "4dff650b-3ca2-4d4c-97d8-d4832b8cf512"
      },
      "outputs": [
        {
          "output_type": "execute_result",
          "data": {
            "text/plain": [
              "{'a': {frozenset({'A'}): 2,\n",
              "  frozenset({'A', 'B'}): 5,\n",
              "  frozenset({'B'}): 2,\n",
              "  frozenset({'D'}): 7},\n",
              " 'b': {frozenset({'C'}): 10, frozenset({'D'}): 8},\n",
              " 'c': {frozenset({'C', 'D'}): 15, frozenset({'D'}): 10},\n",
              " 'd': {frozenset({'B', 'C'}): 10, frozenset({'B'}): 8},\n",
              " 'e': {frozenset({'A', 'B'}): 11, frozenset({'A', 'B', 'C', 'D'}): 20}}"
            ]
          },
          "metadata": {},
          "execution_count": 2
        }
      ],
      "source": [
        "v"
      ]
    },
    {
      "cell_type": "markdown",
      "metadata": {
        "id": "N67mBWuZiVnm"
      },
      "source": [
        "# The building blocks of the VCG mechanism for combinatorial auctions\n",
        "Recall that in combinatorial auctions bidders place evaluations for bundle of objects.\n",
        "In auctions we have to make two choices:\n",
        "1. Deciding how to allocate the goods\n",
        "2. Deciding how much every bidder has to pay\n",
        "\n",
        "In combinatorial auctions we allocate the goods in the way that maximizes the social welfare; that is, among all possible *admissible* allocations $(\\Omega)$ we choose the one for which the sum of the player values is maximum. Formally:\n",
        "\n",
        "$$ \\omega^* = \\argmax_{\\omega \\in \\Omega} \\sum_{i \\in N} v_i(\\omega) $$\n",
        "\n",
        "This is an NP-Hard problem, so we have to enumerate all possible admissible allocation.\n",
        "An allocation is *admissible* if it satisfies two conditions:\n",
        "- Every bidder gets *at most* one bundle\n",
        "- The allocated bundles are pairwise disjoint (we cannot allocate the same object to two people)\n",
        "\n",
        "Next, in order to decide how much each player should pay, we need to compute the externality that each player imposes on all the others.\n",
        "That is, once we have computed the optimal allocation discussed above $(\\omega^*)$, for each player we need to compute the following quantity:\n",
        "\n",
        "$$ p_i(\\omega^*) = \\max_{\\omega \\in \\Omega} \\sum_{j \\neq i \\in N} v_j(\\omega) - \\sum_{j \\neq i} v_j(w^*)$$\n",
        "\n",
        "In short, for each player $i$ we need to compute the best possible admissible allocation if $i$ did not participate to the auction (using the same algorithm we use to solve the prior problem) and subtract the sum of the values of all the players $j \\neq i$ in the optimal allocation $\\omega^*$."
      ]
    },
    {
      "cell_type": "code",
      "execution_count": null,
      "metadata": {
        "id": "xdZZ3dOiiVnm"
      },
      "outputs": [],
      "source": [
        "import copy as cp\n",
        "\n",
        "def from_dict_to_list_bids(bids):\n",
        "    '''\n",
        "    This function converts the dictionary of bidders' evaluation into a list of tuples\n",
        "    '''\n",
        "    l = [(bidder, itemset, value) for bidder in bids for itemset,value in bids[bidder].items()]\n",
        "    return l\n",
        "\n",
        "def is_admissible(allocation):\n",
        "    '''\n",
        "    This function returns True if the allocation is admissible and False otherwise.\n",
        "\n",
        "    An allocation is admissible if and only if the following two conditions are satisfied:\n",
        "        1) every bidder gets at most one bundle\n",
        "        2) the allocated bundles are disjoint\n",
        "    '''\n",
        "\n",
        "    bidders = []\n",
        "    sets = []\n",
        "    for bid in allocation:\n",
        "      bidder = bid[0]\n",
        "      if bidder in bidders:\n",
        "        return False\n",
        "      bidders.append(bidder)\n",
        "      sets.append(bid[1])\n",
        "\n",
        "    if len(sets) > 0 and not pairwise_disjoint(sets):\n",
        "      return False\n",
        "    return True\n",
        "\n",
        "def pairwise_disjoint(sets):\n",
        "    '''\n",
        "    This function checks whether the sets contained in a list are pairwise disjoint\n",
        "    '''\n",
        "    intersection = frozenset()\n",
        "    already_assigned = sets[0]\n",
        "    for elem in sets[1:]:\n",
        "      intersection = already_assigned.intersection(elem)\n",
        "      already_assigned = already_assigned.union(elem)\n",
        "      if len(intersection) > 0:\n",
        "        return False\n",
        "\n",
        "    return True\n",
        "\n",
        "\n",
        "def compute_allocation_value(allocation):\n",
        "    '''\n",
        "    An allocation is a list of tuples with the following semantic: (bidder, itemset, value).\n",
        "    This function computes the total value of an allocation.\n",
        "    '''\n",
        "    value = 0\n",
        "    for bid in allocation:\n",
        "      value += bid[2]\n",
        "    return value\n",
        "\n",
        "def compute_winner(bids):\n",
        "    '''\n",
        "    This function computes the winner(s) of a combinatorial auction\n",
        "    Determining the winner(s) of a combinatorial auction, under the VCG mechanism amounts to solving the\n",
        "    weighted set packing problem, which is NP-Hard. Here, in order to solve this problem, we write an algorithm\n",
        "    that enumerates all the possible assignments and selects the admissible assignment with the maximum\n",
        "    social welfare.\n",
        "\n",
        "    This implementation is not the most efficient possible, since it generates all the possible allocations\n",
        "    including non admissible allocations. This problem can be mitigated through techniques such as\n",
        "    constraint propagation, recursive search strategies, and backtracking.\n",
        "\n",
        "    You're very welcome to try to make an optimized algorithm for this problem ;)\n",
        "    '''\n",
        "\n",
        "    # unfold the dict\n",
        "    bids_list = from_dict_to_list_bids(bids)\n",
        "\n",
        "    n = len(bids_list)\n",
        "\n",
        "    winner_value = 0\n",
        "\n",
        "    for i in range(0,2**n):\n",
        "      candidate_allocation = []\n",
        "      bin_i = str(bin(i)).split('b')[1][::-1]   # little endian representation\n",
        "\n",
        "      for j in range(len(bin_i)):\n",
        "        if bin_i[j] == '1':\n",
        "          candidate_allocation.append(bids_list[len(bids_list)-1-j])\n",
        "      if is_admissible(candidate_allocation):\n",
        "        candidate_allocation_value = compute_allocation_value(candidate_allocation)\n",
        "        # check if this allocation has more value than the current winner\n",
        "        if candidate_allocation_value >= winner_value:\n",
        "          winner = candidate_allocation\n",
        "          winner_value = candidate_allocation_value\n",
        "\n",
        "    return winner, winner_value\n",
        "\n",
        "def VCG_auction(bids):\n",
        "    '''\n",
        "    This function implements the VCG mechanism. It takes in input the bids for the auction and provides in output:\n",
        "        1) the optimal allocation of the items\n",
        "        2) the price each winner has to pay\n",
        "\n",
        "    The format of the output is a list of tuples with the following semantic: (bidder, itemset, price).\n",
        "    Example:\n",
        "                ('a', {'I1', 'I2'}, 30) --> Bidder 'a' receives the bundle {'I1', 'I2'} and pays 30\n",
        "\n",
        "    In VCG mechanism, the optimal allocation is the allocation which maximises the social welfare.That is:\n",
        "\n",
        "                $$ \\omega^* = \\\\argmax_{\\omega \\in \\Omega} \\sum_{i \\in N} v_i(\\omega) $$\n",
        "\n",
        "    The amount each player pays is the externality they impose on all the other players. That is:\n",
        "\n",
        "                $$ p_i(\\omega^*) = \\max_{\\omega \\in \\Omega} \\sum_{j \\\\neq i \\in N} v_j(\\omega) - \\sum_{j \\\\neq i} v_j(w^*)$$\n",
        "\n",
        "    '''\n",
        "    vcg = []\n",
        "    omega_star, winner_value = compute_winner(bids)\n",
        "\n",
        "    for player in bids:\n",
        "      bids_without_player = cp.deepcopy(bids)\n",
        "      del bids_without_player[player]\n",
        "\n",
        "      vcg_itemset = []\n",
        "\n",
        "      # first part of the expression\n",
        "      _, v_omega_minus_player = compute_winner(bids_without_player)\n",
        "\n",
        "      # calculate second part of the expression\n",
        "      summation_omega_star_minus_player = 0\n",
        "      for bidder, itemset, value in omega_star:\n",
        "        if bidder != player:\n",
        "          summation_omega_star_minus_player += value\n",
        "        else:\n",
        "          vcg_itemset.append(itemset)\n",
        "\n",
        "      vcg_value = v_omega_minus_player - summation_omega_star_minus_player\n",
        "\n",
        "      vcg.append((player, vcg_itemset, vcg_value))\n",
        "\n",
        "    return vcg"
      ]
    },
    {
      "cell_type": "code",
      "execution_count": null,
      "metadata": {
        "colab": {
          "base_uri": "https://localhost:8080/"
        },
        "id": "_85LeKrwiVnn",
        "outputId": "b9b544c8-e700-4357-bf7d-8a421a80dab7"
      },
      "outputs": [
        {
          "output_type": "execute_result",
          "data": {
            "text/plain": [
              "([('e', frozenset({'A', 'B'}), 11),\n",
              "  ('c', frozenset({'D'}), 10),\n",
              "  ('b', frozenset({'C'}), 10)],\n",
              " 31)"
            ]
          },
          "metadata": {},
          "execution_count": 114
        }
      ],
      "source": [
        "compute_winner(v)"
      ]
    },
    {
      "cell_type": "code",
      "execution_count": null,
      "metadata": {
        "id": "E6xnpr8giVnn",
        "outputId": "dd4c58de-1490-445a-cf55-0007a4d053e5",
        "colab": {
          "base_uri": "https://localhost:8080/"
        }
      },
      "outputs": [
        {
          "output_type": "execute_result",
          "data": {
            "text/plain": [
              "[('a', [], 0),\n",
              " ('b', [frozenset({'C'})], 5),\n",
              " ('c', [frozenset({'D'})], 7),\n",
              " ('d', [], 0),\n",
              " ('e', [frozenset({'A', 'B'})], 10)]"
            ]
          },
          "metadata": {},
          "execution_count": 115
        }
      ],
      "source": [
        "VCG_auction(v)"
      ]
    }
  ],
  "metadata": {
    "kernelspec": {
      "display_name": "tf",
      "language": "python",
      "name": "python3"
    },
    "language_info": {
      "codemirror_mode": {
        "name": "ipython",
        "version": 3
      },
      "file_extension": ".py",
      "mimetype": "text/x-python",
      "name": "python",
      "nbconvert_exporter": "python",
      "pygments_lexer": "ipython3",
      "version": "3.9.18"
    },
    "orig_nbformat": 4,
    "colab": {
      "provenance": []
    }
  },
  "nbformat": 4,
  "nbformat_minor": 0
}