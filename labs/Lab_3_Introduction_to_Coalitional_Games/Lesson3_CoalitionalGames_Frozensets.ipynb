{
  "cells": [
    {
      "cell_type": "markdown",
      "metadata": {
        "id": "UcuWNdYSw-iB"
      },
      "source": [
        "# Coalitional Games: Representation, Solution concepts, and Issues\n",
        "In this notebook, we will explore how to use computation to explore and solve coalitional games.\n",
        "Coalitional games, also known as Transferable Utility (TU) games, are a particular class of games where the payoff is not given to a single player but to a group (coalition) of players.\n",
        "\n",
        "Utility is *transferable* if one player can transfer part of their utility to another player, without loss. Such transfers are possible if the players have a common currency that is valued equally by all the players. It's important to note that we are still talking about utility. So, for instance, being able to transfer cash payoffs does not imply that *utility* is transferable: wealthy and poor players may derive a different utility from the same amount of money.\n",
        "\n",
        "When a group of players joins forces to reach a common goal, for example by pooling their money to buy a common good, the players need to decide how to divide the payoff. We will see how to answer this question! </br>\n",
        "We might also want to know what coalitions are likely to emerge. This might be a tough question, since if we have n players, then we have $2^n$ possible coalitions."
      ]
    },
    {
      "cell_type": "markdown",
      "metadata": {
        "id": "opAUqyNCw-iF"
      },
      "source": [
        "## An example of coalitional game: Buying ice-cream\n",
        "Let's consider a coalitional game where we have three players (Alice, Bob, and Charlie) who want to buy and divide ice-cream.</br>\n",
        "Each player has a fixed amount of money:\n",
        "* A = $6\n",
        "* B = $3\n",
        "* C = $3\n",
        "\n",
        "Three types of ice-cream tubs are for sale:\n",
        "* Type 1 costs $7, contains 500g\n",
        "* Type 2 costs $9, contains 750g\n",
        "* Type 3 costs $11, contains 1000g\n",
        "\n",
        "The payoff of each group is the maximum quantity of ice-cream the members of the group can buy by pooling their money </br>\n",
        "The ice-cream can be shared arbitrarily within the group.\n",
        "\n",
        "### Possible coalitions and their payoffs\n",
        "No single person, with the money available, can buy any amount of ice-cream.</br>\n",
        "- $v(\\emptyset) = v(\\{ \\textrm{A} \\}) = v(\\{\\textrm{B}\\}) = v(\\{\\textrm{C}\\}) = 0$\n",
        "\n",
        "No coalition without Alice can buy any ice-cream\n",
        "- $v(\\{ \\textrm{A, B} \\}) = 750\\textrm{g}, v(\\{ \\textrm{A, C} \\}) = 750\\textrm{g}, v(\\{ \\textrm{B, C} \\}) = 0$\n",
        "- $v(\\{ \\textrm{A, B, C} \\}) = 1000\\textrm{g}$\n",
        "\n",
        "What we have just written here is the so called *characteristic function*."
      ]
    },
    {
      "cell_type": "markdown",
      "metadata": {
        "id": "BXytwu5jw-iG"
      },
      "source": [
        "## Formalisation of coalitional games\n",
        "> **Definition (Coalitional Game):** </br>\n",
        ">A coalitional game (transferable utility) game is a pair $G = (N, v)$, where:\n",
        ">- $N =\\{1, ..., n\\}$ is the set of players\n",
        ">- $v$: $2^N \\longrightarrow \\mathbb{R}$ is the characteristic function\n",
        ">- for each subset of players $C$, $v(C)$ is the amount that the members of $C$ can earn by working together\n",
        "\n",
        "We usually assume that $v$ is\n",
        "- normalized: $v(Ø)$ = 0\n",
        "- non-negative: $v(C) \\ge 0, \\quad \\forall \\, C \\subseteq N$\n",
        "- monotone: $v(C) \\le v(D), \\quad \\forall \\; C, D \\quad \\mathrm{such\\;that} \\quad C \\subseteq D$\n",
        "\n",
        "A coalition is any subset of N; N itself is called the grand coalition"
      ]
    },
    {
      "cell_type": "markdown",
      "metadata": {
        "id": "heSzEbPEw-iH"
      },
      "source": [
        "### Representing a characteristic function in Python\n",
        "To represent a characteristic function in Python, in a naive way, we can use a dictionary where we associate a value to each coalition.\n",
        "We can use frozen sets. Frozen sets are unchangeable sets, so they can be hashed. The convenient thing about frozen sets is that they offer us all the useful and fast functions offered by sets, such as checking that an element is a member of a set or checking if a set $S$ is the subset of another set $T$, and they are also hashable so they can be used as keys in a dictionary.\n",
        "\n",
        "<!---\n",
        "(A) = 0 </br>\n",
        "%(B) = 0 </br>\n",
        "(C) = 0 </br>\n",
        "(A,B) = 750 </br>\n",
        "(A,C) = 750 </br>\n",
        "(B,C) = 0 </br>\n",
        "(A,B,C) = 1000 </br>\n",
        "-->"
      ]
    },
    {
      "cell_type": "code",
      "execution_count": 1,
      "metadata": {
        "id": "zMvHZ--iw-iI"
      },
      "outputs": [],
      "source": [
        "# This is the characteristic function for the ice-cream game we have just described, using frozen sets\n",
        "v = {\n",
        "    frozenset(['A']): 0,\n",
        "    frozenset(['B']): 0,\n",
        "    frozenset(['C']): 0,\n",
        "    frozenset(['A', 'B']): 750,\n",
        "    frozenset(['A', 'C']): 750,\n",
        "    frozenset(['B', 'C']): 0,\n",
        "    frozenset(['A', 'B', 'C']): 1000\n",
        "}"
      ]
    },
    {
      "cell_type": "code",
      "execution_count": 2,
      "metadata": {
        "id": "A8DSZY9Kw-iJ",
        "outputId": "88ca06cf-ddf1-4645-d616-bb4777e06e4e",
        "colab": {
          "base_uri": "https://localhost:8080/"
        }
      },
      "outputs": [
        {
          "output_type": "execute_result",
          "data": {
            "text/plain": [
              "{frozenset({'A'}): 0,\n",
              " frozenset({'B'}): 0,\n",
              " frozenset({'C'}): 0,\n",
              " frozenset({'A', 'B'}): 750,\n",
              " frozenset({'A', 'C'}): 750,\n",
              " frozenset({'B', 'C'}): 0,\n",
              " frozenset({'A', 'B', 'C'}): 1000}"
            ]
          },
          "metadata": {},
          "execution_count": 2
        }
      ],
      "source": [
        "v"
      ]
    },
    {
      "cell_type": "markdown",
      "metadata": {
        "id": "sOTfzDXww-iK"
      },
      "source": [
        "### Superadditive games\n",
        "> **Definition (Superadditive games):** </br>\n",
        "A characteristic function game $G(N,v)$ is said to be superadditive if it satisfies $v(C_1 \\cup C_2) \\ge v(C_1) + v(C_2)\\; \\forall C_1, C_2 \\subset N\\; \\text{such that}\\; C_1 \\cap C_2 = \\emptyset$.\n",
        "\n",
        "Let's implement a function that recognises if a game is superadditive or not. First, we need a function to generate all the possible coalitions of a set on $N$ players. That is, we need a function to generate the powerset of a set (or list) of elements. Then, following the definition, for each couple of coalitions $C_1$ and $C_2$ in this powerset, if the intersection between these coalitions is the empty set, we check that the condition $v(C_1 \\cup C_2) \\ge v(C_1) + v(C_2)$ holds. If it doesn't, the game is not superadditive."
      ]
    },
    {
      "cell_type": "code",
      "execution_count": 3,
      "metadata": {
        "id": "P3yRoTc8w-iL"
      },
      "outputs": [],
      "source": [
        "from itertools import combinations\n",
        "\n",
        "def intersection(c1,c2):\n",
        "    intersection_elements = []\n",
        "    for element in c1:\n",
        "        if element in c2:\n",
        "          intersection_elements.append(element)\n",
        "    return frozenset(intersection_elements)\n",
        "\n",
        "def is_superadditive(characteristic_function):\n",
        "    condition = True\n",
        "\n",
        "    for c1 in characteristic_function:\n",
        "      for c2 in characteristic_function:\n",
        "        if c1 != c2 and len(intersection(c1,c2)) == 0:\n",
        "          if characteristic_function[c1 | c2] < characteristic_function[c1] + characteristic_function[c2]:\n",
        "            condition = False\n",
        "    return condition"
      ]
    },
    {
      "cell_type": "code",
      "execution_count": 4,
      "metadata": {
        "colab": {
          "base_uri": "https://localhost:8080/"
        },
        "id": "3CCn0Zf5w-iL",
        "outputId": "0c0544b8-98d7-4eb5-e3d6-8883c5470be6"
      },
      "outputs": [
        {
          "output_type": "stream",
          "name": "stdout",
          "text": [
            "True\n"
          ]
        }
      ],
      "source": [
        "v = {\n",
        "    frozenset(['A']): 0,\n",
        "    frozenset(['B']): 0,\n",
        "    frozenset(['C']): 0,\n",
        "    frozenset(['A', 'B']): 750,\n",
        "    frozenset(['A', 'C']): 750,\n",
        "    frozenset(['B', 'C']): 0,\n",
        "    frozenset(['A', 'B', 'C']): 1000\n",
        "}\n",
        "\n",
        "\n",
        "# This game is superadditive, so this should return True\n",
        "print(is_superadditive(v))"
      ]
    },
    {
      "cell_type": "code",
      "execution_count": 5,
      "metadata": {
        "colab": {
          "base_uri": "https://localhost:8080/"
        },
        "id": "Qz_O5eMTw-iM",
        "outputId": "36ca55fe-3c3c-4e1b-a22e-b01768fb136c"
      },
      "outputs": [
        {
          "output_type": "stream",
          "name": "stdout",
          "text": [
            "False\n"
          ]
        }
      ],
      "source": [
        "v = {\n",
        "    frozenset(['A']): 6,\n",
        "    frozenset(['B']): 12,\n",
        "    frozenset(['C']): 42,\n",
        "    frozenset(['A', 'B']): 12,\n",
        "    frozenset(['A', 'C']): 42,\n",
        "    frozenset(['B', 'C']): 42,\n",
        "    frozenset(['A', 'B', 'C']): 42\n",
        "}\n",
        "\n",
        "# This game is not superadditive, so this should return False\n",
        "print(is_superadditive(v))"
      ]
    },
    {
      "cell_type": "markdown",
      "metadata": {
        "id": "vS1JK0TUw-iM"
      },
      "source": [
        "## Solution concepts: the core\n",
        ">**Definition (Core):** </br>\n",
        ">The core of a game is the set of all stable outcomes; that is, outcomes that no coalition wants to deviate from. </br>\n",
        ">More formally, the core is defined as follows:\n",
        ">\n",
        ">$$\n",
        "    \\mathrm{core}(G) =  \\left\\{\\quad \\mathbf{x}  \\quad \\left| \\;\n",
        "        \\begin{align}\n",
        "            &x_i \\ge 0\\, \\forall i \\in N &\\text{(The payoff is positive for each player)} \\nonumber\\\\\n",
        "            &\\sum_{i \\in N} x_i = v(N) \\qquad &\\text{(Efficiency: all value is allocated)} \\nonumber\\\\\n",
        "            &\\sum_{i \\in C} x_i \\ge v(C)\\, \\forall C \\subseteq N \\qquad &\\text{(Stability: No coalition wants to deviate)} \\nonumber \\\\\n",
        "        \\end{align}\n",
        "    \\right\\}\\right.\n",
        ">$$\n",
        "\n",
        "Computing the core is a difficult task. Enumerating all the possible outcomes in the core is clearly unfeasible, even if we consider only integer payoffs. A possibility is to find the extreme points that define the region of the core, but that requires to solve a sequence of linear programs (LP). This is clearly beyond the goals of this course. Additionally, since the core has important limitations and it can also be empty for some games, such an effort would not be worth.</br>\n",
        "We will, instead, use the aforementioned definition of core to check whether an outcome is in the core. This will also help us to understand some limitations of stable outcomes."
      ]
    },
    {
      "cell_type": "code",
      "execution_count": 8,
      "metadata": {
        "id": "iwosAloGw-iN"
      },
      "outputs": [],
      "source": [
        "from itertools import combinations\n",
        "\n",
        "# A function to generate the powerset: it returns a list of 2^(n-1) frozen sets\n",
        "def powerset(List):\n",
        "    subs = [frozenset(j) for i in range(len(List)) for j in combinations(List, i+1)]\n",
        "    return subs\n",
        "\n",
        "# This function checks if an outcome for a given game is stable\n",
        "def is_stable(outcome, characteristic_function):\n",
        "    for c in characteristic_function:\n",
        "      value = characteristic_function[c]\n",
        "      allocated = 0\n",
        "      for player in c:\n",
        "        allocated += outcome[player]\n",
        "      if allocated < value:\n",
        "        return False\n",
        "    return True\n",
        "\n",
        "\n",
        "# This function applies the definition of core to check whether an outcome is in the core of a game\n",
        "def is_in_the_core(outcome, characteristic_function):\n",
        "    positivity = True\n",
        "    efficient = True\n",
        "\n",
        "    # check for positivity\n",
        "    for x in outcome:\n",
        "        if outcome[x] < 0:\n",
        "            is_positive = False\n",
        "            return False\n",
        "\n",
        "    # check for efficiency\n",
        "    if int(sum(outcome.values())) != characteristic_function[max(characteristic_function)]:\n",
        "      return False\n",
        "\n",
        "    # check for stability\n",
        "    if not is_stable(outcome, characteristic_function):\n",
        "      return False\n",
        "\n",
        "    return True\n",
        "\n"
      ]
    },
    {
      "cell_type": "code",
      "execution_count": 13,
      "metadata": {
        "colab": {
          "base_uri": "https://localhost:8080/"
        },
        "id": "mMruglWPw-iN",
        "outputId": "1841e2c1-046b-42c6-d7ed-d639a572d885"
      },
      "outputs": [
        {
          "output_type": "stream",
          "name": "stdout",
          "text": [
            "False\n"
          ]
        }
      ],
      "source": [
        "# Now, to define our coalitional game we need a characteristic function.\n",
        "v = {\n",
        "    frozenset(['A']): 0,\n",
        "    frozenset(['B']): 0,\n",
        "    frozenset(['C']): 0,\n",
        "    frozenset(['A', 'B']): 750,\n",
        "    frozenset(['A', 'C']): 750,\n",
        "    frozenset(['B', 'C']): 0,\n",
        "    frozenset(['A', 'B', 'C']): 1000\n",
        "}\n",
        "\n",
        "# Now, we need to define an outcome in order to test if it is in the core.\n",
        "# We start with an equal redistribution\n",
        "x = {\n",
        "    'A': 333.3334,\n",
        "    'B': 333.3333,\n",
        "    'C': 333.3333\n",
        "}\n",
        "\n",
        "# It should return False, since v({A,B}) > x(A) + x(B)\n",
        "print(is_in_the_core(x, v))"
      ]
    },
    {
      "cell_type": "code",
      "execution_count": 11,
      "metadata": {
        "id": "pU9SKSTQw-iN",
        "outputId": "e88531aa-a84c-4838-f663-5ba7f21c8e8f",
        "colab": {
          "base_uri": "https://localhost:8080/"
        }
      },
      "outputs": [
        {
          "output_type": "stream",
          "name": "stdout",
          "text": [
            "True\n"
          ]
        }
      ],
      "source": [
        "# We try with another outcome: since A has more money than B and C, we give a higher payoff to A\n",
        "x = {\n",
        "    'A': 500,\n",
        "    'B': 250,\n",
        "    'C': 250\n",
        "}\n",
        "\n",
        "# It should return True, since v({B,C}) = 0 and x(B) + x(C) = 500\n",
        "print(is_in_the_core(x, v))"
      ]
    },
    {
      "cell_type": "code",
      "execution_count": 12,
      "metadata": {
        "id": "coQTxX_hw-iO",
        "outputId": "5908faac-562a-483f-8f68-ada195443343",
        "colab": {
          "base_uri": "https://localhost:8080/"
        }
      },
      "outputs": [
        {
          "output_type": "stream",
          "name": "stdout",
          "text": [
            "True\n"
          ]
        }
      ],
      "source": [
        "# We try with a very unfair outcome (B and C pay for A to take all!)\n",
        "x = {\n",
        "    'A': 1000,\n",
        "    'B': 0,\n",
        "    'C': 0\n",
        "}\n",
        "\n",
        "# It should return True, since v(B) = v(C) = v({B,C}) = 0 which is equal to x(B) + x(C)\n",
        "# This shows one limitation of the core. Such an unfair outcome is in the core!\n",
        "print(is_in_the_core(x, v))"
      ]
    },
    {
      "cell_type": "markdown",
      "metadata": {
        "id": "YcejTwugw-iO"
      },
      "source": [
        "## Solution concepts: the Shapley Value\n",
        ">**Definition (Shapley Value):** </br>\n",
        ">The Shapley value is a way to redistribute the payoff obtained by the coalition among its members. The idea behind the Shapley value is to redistribute the payoff proportionally to the contribution of each player to the coalition. A possible solution consists in assigning to each player the average of all their marginal contributions over the possible orderings of the players in the coallition. That is:\n",
        ">\n",
        ">$$\n",
        "\\phi(i, v) = \\frac{1}{|N|!} \\sum_{\\pi \\in \\Pi_N} v(\\mathrm{B}(\\pi, i) \\cup \\{i\\}) - v(\\mathrm{B}(\\pi, i))\n",
        ">$$\n",
        ">\n",
        ">Where: </br>\n",
        "$\\phi(i, v)$ is the Shapley value (i.e. the payoff) for the player $i$ </br>\n",
        "$v$ is the characteristic function </br>\n",
        "$\\Pi_N$ is the set of all possible orderings of the elements in $N$; that is, the set of all the possible permutations of $N$ </br>\n",
        "$\\mathrm{B}(\\pi, i)$ is the set of predecessors of $i$ in the permutation under consideration.\n",
        "\n",
        "There are other two, equivalent, equations to compute the Shapley value:\n",
        "\n",
        "$$\n",
        "\\phi(i, v) = \\sum_{S \\subseteq N} \\frac{(|N| - |S|)! \\times (|S| - 1)!}{|N|!} (v(S) - v(S \\setminus \\{i\\}))\n",
        "$$\n",
        "$$\n",
        "\\phi(i, v) = \\sum_{S \\subseteq N \\setminus \\{i\\}} \\frac{|S|! \\times (|N| - |S| - 1)!}{|N|!} (v(S \\cup \\{i\\}) - v(S))\n",
        "$$\n",
        "\n",
        "Note that in the last equation, the summation is over all the subsets $S \\subseteq N$ which do not contain the player $i$.\n",
        "\n",
        "The Shapley value satisfies the following properties:\n",
        "- Players receive, at least, the same payoff they would receive if they did not participate to the coalition: $\\phi(i, v) \\ge v(\\{i\\})\\; \\forall i \\in N$\n",
        "- The Shapley value is Pareto efficient: $\\sum_{i \\in N} \\phi(i, v) = v(N)$\n",
        "- Players with the same marginal contributions receive the same payoff: $v(S \\cup \\{i\\}) = v(S \\cup \\{j\\})\\; \\forall S \\in N \\setminus \\{i,j\\} \\Longrightarrow \\phi(i, v) = \\phi(j, v)$\n",
        "- Players with marginal contribution equal to zero (such players are known as *null players*) receive payoff equal to zero: $v(S) = v(S \\cup \\{i\\})\\; \\forall S \\in N \\setminus \\{i\\} \\Longrightarrow \\phi(i,v) = 0$\n",
        "- The Shapley value is additive. Let $G_1 = (N, v)$ and $G_2 = (N, w)$ be two games defined on the same set of players: $\\phi(i, v + w) = \\phi(i, v) + \\phi(i, w)\\; \\forall i \\in N$\n",
        "\n",
        "It can be shown that the Shapley value is the only payoff distribution method which satisfies the aforementioned properties.\n",
        "\n",
        "The Shapley value, however, has one important limitation: it is not necessarily a stable solution. As such, it is not guaranteed that $\\sum_{i \\in C} \\phi(i, v) \\ge v(C)\\, \\forall C \\subseteq N$."
      ]
    },
    {
      "cell_type": "markdown",
      "metadata": {
        "id": "pVU9sp1ww-iO"
      },
      "source": [
        "### Computing the Shapley value for the Ice-cream game\n",
        "\n",
        "Let's compute the Shapley value for this characteristic function: </br>\n",
        "- $v(\\emptyset) = v(\\{ \\textrm{A} \\}) = v(\\{\\textrm{B}\\}) = v(\\{\\textrm{C}\\}) = 0$\n",
        "- $v(\\{ \\textrm{A, B} \\}) = 750\\textrm{g}, v(\\{ \\textrm{A, C} \\}) = 750\\textrm{g}, v(\\{ \\textrm{B, C} \\}) = 0$\n",
        "- $v(\\{ \\textrm{A, B, C} \\}) = 1000\\textrm{g}$\n",
        "\n",
        "We just need to compute the average marginal contribution of each player. Let's denote the marginal contribution of a player $i \\in N$, for a given permutation $\\pi \\subseteq \\Pi_N$ as $\\delta_i(\\pi)$\n",
        "\n",
        "<b>Computation for player A</b>\n",
        "\n",
        "$\n",
        "\\begin{aligned}\n",
        "&\\pi = \\text{(A, B, C):} \\qquad &\\delta_A(\\pi) &= v(\\{A\\}) - v(\\{\\emptyset\\}) &=& &0& \\\\\n",
        "&\\pi = \\text{(A, C, B):} &\\delta_A(\\pi) &= v(\\{A\\}) - v(\\{\\emptyset\\}) &=& &0& \\\\\n",
        "&\\pi = \\text{(B, A, C):} &\\delta_A(\\pi) &= v(\\{A, B\\}) - v(\\{B\\}) = 750 - 0 &=& &750& \\\\\n",
        "&\\pi = \\text{(B, C, A):} &\\delta_A(\\pi) &= v(\\{A, B, C\\}) - v(\\{B, C\\}) = 1000 - 0 &=& &1000& \\\\\n",
        "&\\pi = \\text{(C, A, B):} &\\delta_A(\\pi) &= v(\\{A, C\\}) - v(\\{C\\}) = 750 - 0 &=& &750& \\\\\n",
        "&\\pi = \\text{(C, B, A):} &\\delta_A(\\pi) &= v(\\{A, B, C\\}) - v(\\{B, C\\}) = 1000 - 0 &=& &1000&\n",
        "\\end{aligned}\n",
        "$\n",
        "\n",
        "$$\\phi(A, v) = (750 + 1000 + 750 + 1000)/6 = 3500/6 = 583.\\overline{33}$$\n",
        "\n",
        "<b>Computation for player B (and C)</b>\n",
        "\n",
        "$\n",
        "\\begin{aligned}\n",
        "&\\pi = \\text{(A, B, C):} \\qquad &\\delta_B(\\pi) &= v(\\{A, B\\}) - v(\\{A\\}) = 750 - 0 &=& &750& \\\\\n",
        "&\\pi = \\text{(A, C, B):} &\\delta_B(\\pi) &= v(\\{A, B, C\\}) - v(\\{A, C\\}) = 1000 - 750 &=& &250& \\\\\n",
        "&\\pi = \\text{(B, A, C):} &\\delta_B(\\pi) &= v(\\{B\\}) - v(\\{\\emptyset\\}) &=& &0& \\\\\n",
        "&\\pi = \\text{(B, C, A):} &\\delta_B(\\pi) &= v(\\{B\\}) - v(\\{\\emptyset\\}) &=& &0& \\\\\n",
        "&\\pi = \\text{(C, A, B):} &\\delta_B(\\pi) &= v(\\{A, B, C\\}) - v(\\{A, C\\}) = 1000 - 750 &=& &250& \\\\\n",
        "&\\pi = \\text{(C, B, A):} &\\delta_B(\\pi) &= v(\\{B, C\\}) - v(\\{C\\}) &=& &0&\n",
        "\\end{aligned}\n",
        "$\n",
        "\n",
        "$$\\phi(B, v) = \\phi(C, v) = (750 + 250 + 250)/6 = 1250/6 = 208.\\overline{33}$$\n",
        "\n",
        "As such, $\\phi = (583.\\overline{33}, 208.\\overline{33}, 208.\\overline{33})$"
      ]
    },
    {
      "cell_type": "markdown",
      "metadata": {
        "id": "Q7vfqzhHw-iO"
      },
      "source": [
        "### Implementing the Shapley value in Python\n",
        "We will now implement the Shapley value computation. We could use any of the aforementioned formula, but the second formula is better for the exact Shapley value computation. In fact, for $n$ players we have a total of $n!$ permutations versus $2^n$ coalitions. As such, implementing the computation of the Shapley values with the second formula is faster than implementing it with the first formula, because the second formula leads to an algorithm with time complexity $\\mathcal{O}(2^n)$ while the first formula leads to an $\\mathcal{O}(n!)$ algorithm. We will start by generating the powerset of players (that is, all the possible coalitions) and we are going to compute the marginal contributions."
      ]
    },
    {
      "cell_type": "code",
      "execution_count": 49,
      "metadata": {
        "id": "EGZqle57w-iP"
      },
      "outputs": [],
      "source": [
        "from math import factorial\n",
        "# A function to generate the powerset: it returns a list of 2^(n-1) frozen sets\n",
        "def powerset(List):\n",
        "    subs = [frozenset(j) for i in range(len(List)) for j in combinations(List, i+1)]\n",
        "    return subs\n",
        "\n",
        "# We now implement the Shapley value for a given player, using the second equation\n",
        "def shapley_value(player, characteristic_function):\n",
        "    coalitions_without_player = {c for c in characteristic_function if player not in c}\n",
        "    n = max(characteristic_function)\n",
        "\n",
        "    total = 0\n",
        "\n",
        "    for s in coalitions_without_player:\n",
        "      part1 = (factorial(len(s))*factorial(len(n)-len(s)-1))/factorial(len(n))\n",
        "      part2 = characteristic_function[s.union(frozenset([player]))] - characteristic_function[s]\n",
        "      total += part1*part2\n",
        "\n",
        "    return total\n",
        "\n",
        "# This function returns a dictionary with the Shapley value for each player\n",
        "def shapley(characteristic_function):\n",
        "    # To get the grand coalition from the characteristic function, we can use the function max\n",
        "    return {player: shapley_value(player, characteristic_function) for player in max(characteristic_function)}"
      ]
    },
    {
      "cell_type": "code",
      "execution_count": 48,
      "metadata": {
        "id": "SPozd-tdw-iP",
        "outputId": "f7b54026-a70e-4df8-ff8b-64078ac1a567",
        "colab": {
          "base_uri": "https://localhost:8080/"
        }
      },
      "outputs": [
        {
          "output_type": "execute_result",
          "data": {
            "text/plain": [
              "{'B': 208.33333333333331, 'C': 208.33333333333331, 'A': 583.3333333333333}"
            ]
          },
          "metadata": {},
          "execution_count": 48
        }
      ],
      "source": [
        "v = {\n",
        "    frozenset(['A']): 0,\n",
        "    frozenset(['B']): 0,\n",
        "    frozenset(['C']): 0,\n",
        "    frozenset(['A', 'B']): 750,\n",
        "    frozenset(['A', 'C']): 750,\n",
        "    frozenset(['B', 'C']): 0,\n",
        "    frozenset(['A', 'B', 'C']): 1000\n",
        "}\n",
        "\n",
        "# As we have seen before, it should be (583.33, 208.33, 208.33)\n",
        "shapley(v)"
      ]
    },
    {
      "cell_type": "markdown",
      "metadata": {
        "id": "MLyTPxJpw-iP"
      },
      "source": [
        "## Computational issues of Coalitional Game Theory and naive representations of the characteristic function\n",
        "We face two computational problems in Coalitional Game Theory:\n",
        "1. The naive representation of the characteristic function is exponential in the number of players n: We need to list all the $2^n$ coalitions;\n",
        "2. Computationally expensive algorithms: Checking the stability of an outcome or computing the Shapley value require to go over $2^n$ coalitions.\n",
        "\n",
        "In general, we have the following strategies to tackle these two problems:\n",
        "1. Focusing on *restricted classes* of games; for instance, games on combinatorial structures such as routing games. The problem here is that we give up on representing other interesting games.\n",
        "2. Developing approximated algorithms to solve games; for instance, we can approximate the computation of the Shapley value. We give up on the exact solution but we reduce the computational time.\n",
        "3. Using compact representations for games; instead of representing the characteristic function in a naive way, we can use networked structures to obtain compact but expressive representations.\n",
        "\n",
        "We will see some of these strategies in the next lesson!"
      ]
    },
    {
      "cell_type": "code",
      "execution_count": null,
      "metadata": {
        "id": "d9oy9vAPw-iP"
      },
      "outputs": [],
      "source": []
    }
  ],
  "metadata": {
    "kernelspec": {
      "display_name": "tf",
      "language": "python",
      "name": "python3"
    },
    "language_info": {
      "codemirror_mode": {
        "name": "ipython",
        "version": 3
      },
      "file_extension": ".py",
      "mimetype": "text/x-python",
      "name": "python",
      "nbconvert_exporter": "python",
      "pygments_lexer": "ipython3",
      "version": "3.9.18"
    },
    "orig_nbformat": 4,
    "colab": {
      "provenance": []
    }
  },
  "nbformat": 4,
  "nbformat_minor": 0
}