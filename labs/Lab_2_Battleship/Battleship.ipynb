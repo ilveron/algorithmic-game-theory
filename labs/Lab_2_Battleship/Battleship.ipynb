{
  "cells": [
    {
      "cell_type": "markdown",
      "metadata": {
        "id": "P0ZP9h6f3ELe"
      },
      "source": [
        "# Battleship"
      ]
    },
    {
      "cell_type": "markdown",
      "metadata": {
        "id": "RshmM2u73ELg"
      },
      "source": [
        "In this lab, we are going to develop an AI to play battleship.\n",
        "We will first develop some simple hard-coded strategies and we will analyse their performance.\n",
        "Then we will proceed to develop a game strategy based on a probabilistic approach which seeks to maximize the *expected reward*.\n",
        "This last technique is known as Thompson sampling, one of the most efficient and effective algorithms to solve the *Multi-Armed Bandit* problem."
      ]
    },
    {
      "cell_type": "markdown",
      "metadata": {
        "id": "QasPBUvu3ELh"
      },
      "source": [
        "## Rules of the game\n",
        "Battleship is tipically played on a 10x10 grid. Each opponent places five ships on the board and the goal is to find and destray all the opponent's ships before the other does.\n",
        "Ships can be placed only in contiguos cells of the grid, either vertically or horizontally. The five ships are as follows:\n",
        "- Aircraft Carrier: 5 cells\n",
        "- Battleship: 4 cells\n",
        "- Submarine: 3 cells\n",
        "- Cruiser: 3 cells\n",
        "- Destroyer: 2 cells\n",
        "\n",
        "Ships cannot overlap (two ships cannot occupy the same cell) and cannot extend beyond the borders of the grid!\n",
        "Next to the grid on which ships are placed, each player has another 10x10 grid to keep track of fired locations, hits and misses.\n",
        "\n",
        "Every turn, a player shots at a coordinate and the other player says if it was a hit or a miss. If one of the ships gets sunk, the player has to declare which ship was sunk after declaring the hit."
      ]
    },
    {
      "cell_type": "markdown",
      "metadata": {
        "id": "jVnDtJrW3ELi"
      },
      "source": [
        "## Preliminaries\n",
        "In this lab, we are going to focus on heuristics to win at battleship, so we are going to simulate a number of games by creating random dispositions of ships against which our heuristics are going to play.\n",
        "Since there is no real opponent for our algorithms, we are going to measure the success of our algorithms not in terms of number of won games, but in terms of number of turns required to discover and sink all the ships.\n",
        "\n",
        "First, let's write some support code to generate random dispositions of ships on 10x10 grids."
      ]
    },
    {
      "cell_type": "code",
      "execution_count": null,
      "metadata": {
        "id": "k1__4ukK3ELi"
      },
      "outputs": [],
      "source": [
        "import numpy as np\n",
        "from matplotlib import pyplot as plt\n",
        "from matplotlib.colors import ListedColormap\n",
        "\n",
        "output_strategy = ListedColormap(['white', '#F0E442', '#D55E00'])\n",
        "ship_placement = ListedColormap(['white', '#D55E00', '#0072B2', '#CC79A7', '#009E73', '#E69F00'])"
      ]
    },
    {
      "cell_type": "code",
      "execution_count": null,
      "metadata": {
        "colab": {
          "base_uri": "https://localhost:8080/"
        },
        "id": "a5wpFY_o3ELj",
        "outputId": "6e0664b2-2009-45e4-a954-7e1c98933308"
      },
      "outputs": [
        {
          "output_type": "stream",
          "name": "stdout",
          "text": [
            "[[0 0 0 0 0 4 0 0 0 0]\n",
            " [0 0 0 0 0 4 5 0 0 0]\n",
            " [3 0 0 1 0 4 5 0 0 0]\n",
            " [3 0 0 1 0 0 0 0 0 0]\n",
            " [3 0 0 1 0 0 0 0 0 0]\n",
            " [0 0 0 1 0 0 2 0 0 0]\n",
            " [0 0 0 1 0 0 2 0 0 0]\n",
            " [0 0 0 0 0 0 2 0 0 0]\n",
            " [0 0 0 0 0 0 2 0 0 0]\n",
            " [0 0 0 0 0 0 0 0 0 0]]\n"
          ]
        }
      ],
      "source": [
        "def create_random_disposition():\n",
        "    grid_size = 10\n",
        "    grid = np.zeros((grid_size, grid_size), dtype=int)\n",
        "    ships = {'Carrier': 5, 'Battleship': 4, 'Cruiser': 3, 'Submarine': 3, 'Destroyer': 2}\n",
        "\n",
        "    def can_place_ship(x, y, length, horizontal):\n",
        "        if horizontal:\n",
        "            if y + length > grid_size:\n",
        "                return False\n",
        "            for i in range(length):\n",
        "                if grid[x, y + i] != 0:\n",
        "                    return False\n",
        "        else:\n",
        "            if x + length > grid_size:\n",
        "                return False\n",
        "            for i in range(length):\n",
        "                if grid[x + i, y] != 0:\n",
        "                    return False\n",
        "        return True\n",
        "\n",
        "    def place_ship(x, y, length, horizontal, ship_id):\n",
        "        if horizontal:\n",
        "            for i in range(length):\n",
        "                grid[x, y + i] = ship_id\n",
        "        else:\n",
        "            for i in range(length):\n",
        "                grid[x + i, y] = ship_id\n",
        "\n",
        "    ship_id = 1\n",
        "    for ship, length in ships.items():\n",
        "        placed = False\n",
        "        while not placed:\n",
        "            horizontal = np.random.choice([True, False])\n",
        "            if horizontal:\n",
        "                x = np.random.randint(0, grid_size - 1)\n",
        "                y = np.random.randint(0, grid_size - length)\n",
        "            else:\n",
        "                x = np.random.randint(0, grid_size - length)\n",
        "                y = np.random.randint(0, grid_size - 1)\n",
        "\n",
        "            if can_place_ship(x, y, length, horizontal):\n",
        "                place_ship(x, y, length, horizontal, ship_id)\n",
        "                placed = True\n",
        "        ship_id += 1\n",
        "\n",
        "    return grid\n",
        "\n",
        "# Example usage:\n",
        "random_grid = create_random_disposition()\n",
        "print(random_grid)"
      ]
    },
    {
      "cell_type": "markdown",
      "metadata": {
        "id": "PuMNJYVv3ELk"
      },
      "source": [
        "### Generating a large collection of random games to test the different strategies\n",
        "Now, we generate a collection of games against which our heuristics are going to compete. For large numbers, it might take a while."
      ]
    },
    {
      "cell_type": "code",
      "execution_count": null,
      "metadata": {
        "id": "JSL6TMP33ELl"
      },
      "outputs": [],
      "source": [
        "N = 10000\n",
        "random_games = [create_random_disposition() for i in range(N)]"
      ]
    },
    {
      "cell_type": "markdown",
      "metadata": {
        "id": "uSNR3ojx3ELl"
      },
      "source": [
        "## Random Firing Strategy\n",
        "This is the easiest strategy. We just fire at random, ignoring whether we hit or miss. This is not a real strategy, but confirming that we can do better than random is always the first baseline!\n",
        "Write a function which plays the random attack strategy and returns in output the number of turns is takes to sink all the opponent's ships."
      ]
    },
    {
      "cell_type": "code",
      "execution_count": null,
      "metadata": {
        "id": "WKcaSHKV3ELl"
      },
      "outputs": [],
      "source": [
        "# Function to play a random attack strategy\n",
        "# Takes in input a grid with the ships locations and returns:\n",
        "# 1) a matrix with the attack where each entry is as follows:\n",
        "#       0: if that cell was unexplored\n",
        "#       1: if that cell was a miss\n",
        "#       2: if that cell was a hit\n",
        "# 2) the number of turns it took to sink them.\n",
        "\n",
        "def all_ships_sunk(grid, shot_grid):\n",
        "    for row in range(len(grid)):\n",
        "      for col in range(len(grid)):\n",
        "        if grid[row,col] != 0 and shot_grid[row,col] == 0:\n",
        "          return False\n",
        "    return True\n",
        "\n",
        "def random_attack_strategy(grid):\n",
        "    turns = 0\n",
        "    grid_size = len(grid)\n",
        "    shot_grid = np.zeros((grid_size, grid_size), dtype=int)\n",
        "    while not all_ships_sunk(grid,shot_grid):\n",
        "      turns+=1\n",
        "      hit = False\n",
        "      rand_row = rand_col = -1\n",
        "      while not hit:\n",
        "        rand_row = np.random.randint(0, grid_size)\n",
        "        rand_col = np.random.randint(0, grid_size)\n",
        "        if shot_grid[rand_row, rand_col] == 0:\n",
        "          hit = True\n",
        "      if grid[rand_row, rand_col] == 0:\n",
        "        shot_grid[rand_row, rand_col] = 1\n",
        "      else:\n",
        "        shot_grid[rand_row, rand_col] = 2\n",
        "    return shot_grid, turns\n"
      ]
    },
    {
      "cell_type": "markdown",
      "metadata": {
        "id": "_zaeciBB3ELm"
      },
      "source": [
        "### Visualizing the performance of random firing strategy"
      ]
    },
    {
      "cell_type": "code",
      "execution_count": null,
      "metadata": {
        "colab": {
          "base_uri": "https://localhost:8080/",
          "height": 325
        },
        "id": "XIIMz0hv3ELm",
        "outputId": "b1ecb35a-fdf5-4ae2-fc37-57310c03be8d"
      },
      "outputs": [
        {
          "output_type": "stream",
          "name": "stdout",
          "text": [
            "Number of turns taken to sink all ships: 95\n"
          ]
        },
        {
          "output_type": "display_data",
          "data": {
            "text/plain": [
              "<Figure size 640x480 with 2 Axes>"
            ],
            "image/png": "[encoded data removed]"
          },
          "metadata": {}
        }
      ],
      "source": [
        "# Example for random firing strategy\n",
        "rand_disp = create_random_disposition()\n",
        "shot_grid, turns_taken = random_attack_strategy(rand_disp)\n",
        "fig, axs = plt.subplots(1,2)\n",
        "pcm = axs[0].pcolormesh(rand_disp, cmap=ship_placement, edgecolors='k')\n",
        "axs[0].set_aspect(\"equal\")\n",
        "axs[0].set_title(\"Placement\")\n",
        "pcm = axs[1].pcolormesh(shot_grid, cmap=output_strategy, edgecolors='k', vmin = 0, vmax=2)\n",
        "axs[1].set_aspect(\"equal\")\n",
        "axs[1].set_title(\"Strategy output\")\n",
        "cax = axs[1].inset_axes((1.05, 0, 0.08, 1.0))\n",
        "fig.colorbar(pcm, cax=cax, ticks = [0, 1, 2])\n",
        "print(f\"Number of turns taken to sink all ships: {turns_taken}\")"
      ]
    },
    {
      "cell_type": "code",
      "execution_count": null,
      "metadata": {
        "id": "ox0MV9Pb3ELn"
      },
      "outputs": [],
      "source": [
        "random_n_turns = [random_attack_strategy(game)[1] for game in random_games]"
      ]
    },
    {
      "cell_type": "code",
      "execution_count": null,
      "metadata": {
        "colab": {
          "base_uri": "https://localhost:8080/",
          "height": 489
        },
        "id": "x2NrBKVH3ELn",
        "outputId": "b266add1-f977-4464-f182-37b9f4d61c76"
      },
      "outputs": [
        {
          "output_type": "execute_result",
          "data": {
            "text/plain": [
              "Text(0.5, 1.0, 'Histogram for Random Strategy')"
            ]
          },
          "metadata": {},
          "execution_count": 7
        },
        {
          "output_type": "display_data",
          "data": {
            "text/plain": [
              "<Figure size 640x480 with 1 Axes>"
            ],
            "image/png": "[encoded data removed]"
          },
          "metadata": {}
        }
      ],
      "source": [
        "n_bins = max(set(random_n_turns)) - min(set(random_n_turns))\n",
        "plt.hist(random_n_turns, bins = n_bins)\n",
        "plt.xlabel(\"Number of turns\")\n",
        "plt.ylabel(\"Number of games\")\n",
        "plt.title(\"Histogram for Random Strategy\")"
      ]
    },
    {
      "cell_type": "markdown",
      "metadata": {
        "id": "ITeFkoiy3ELn"
      },
      "source": [
        "## The \"Hunt and Target\" strategy\n",
        "Obviously, the random strategy performs quite poorly. This is so because the random strategy considers each location as equally probable and ignores when a ship has been hit.\n",
        "We can do much better with a strategy named \"hunt and target\". The idea behind this strategy is slightly more complicated than the random strategy.\n",
        "We beging with a random search and, once we hit a boat, we target the area surrounding that hit until we sink that boat. Once the boat has been sinked, we resume a random search pattern.\n",
        "This strategy tries to strike a balance between exploration and exploitation.\n",
        "\n",
        "Implementing this idea, in its most basic form, is quite easy: each time we hit a ship, we switch to a **target** mode by firing in one of the four cells neighbouring the cell in which we hit our opponent.\n",
        "Of course, we consider these cells only if they have not already been considered (i.e. only if we did not hit or miss already in one of these cells).\n",
        "When we have considered all the neighbouring cell, we can switch back to the **hunt** mode.\n",
        "\n",
        "Also, we can restrict the space of random shooting when in hunt mode: no need to shoot at every location, since the smallest ship in the game occupies two cells.\n",
        "We can just shoot randomly in a checkerboard pattern.\n",
        "\n",
        "Now, you can implement the \"hunt and target\" strategy!"
      ]
    },
    {
      "cell_type": "code",
      "execution_count": null,
      "metadata": {
        "id": "b8p02S8J3ELo"
      },
      "outputs": [],
      "source": [
        "def int2pair(value,grid_len):\n",
        "  return (value//grid_len, value%grid_len)\n",
        "\n",
        "def get_checkerboard_cells(grid_len):\n",
        "  cell_number = 1\n",
        "  checkerboard_cells = []\n",
        "  while cell_number < grid_len*grid_len:\n",
        "    checkerboard_cells.append(cell_number)\n",
        "    if cell_number%grid_len == grid_len-1:\n",
        "      cell_number += 1\n",
        "    elif cell_number%grid_len == grid_len-2:\n",
        "      cell_number += 3\n",
        "    else:\n",
        "      cell_number += 2\n",
        "  return checkerboard_cells\n",
        "\n",
        "def get_neighborhood_attacks(row,col,shot_grid):\n",
        "  next_attacks = [(row-1,col), (row+1,col), (row,col-1), (row,col+1)]\n",
        "  for cell in next_attacks:\n",
        "    if (cell[0]<0 or cell[0]>=len(shot_grid) or cell[1]<0 or cell[1]>=len(shot_grid)) or (shot_grid[cell[0],cell[1]] != 0):\n",
        "      next_attacks.remove(cell)\n",
        "  return next_attacks\n",
        "\n",
        "\n",
        "def hunt_and_target_strategy(grid):\n",
        "    turns = 0\n",
        "    grid_size = (len(grid),len(grid))\n",
        "    shot_grid = np.zeros(grid_size, dtype=int)\n",
        "\n",
        "    while not all_ships_sunk(grid,shot_grid):\n",
        "      hunt_mode = True\n",
        "      checkerboard_cells = get_checkerboard_cells(len(grid))\n",
        "\n",
        "      while hunt_mode:\n",
        "        cell_number = np.random.randint(grid_size[0]*grid_size[1])\n",
        "        while not cell_number in checkerboard_cells:\n",
        "          cell_number = np.random.randint(grid_size[0]*grid_size[1])\n",
        "        next_pair = int2pair(cell_number,grid_size[0])\n",
        "        if shot_grid[next_pair[0],next_pair[1]] == 0:\n",
        "          if grid[next_pair[0],next_pair[1]] != 0:\n",
        "            hunt_mode = False\n",
        "            shot_grid[next_pair[0],next_pair[1]] = 2\n",
        "          else:\n",
        "            shot_grid[next_pair[0],next_pair[1]] = 1\n",
        "          turns+=1\n",
        "\n",
        "      next_attacks = get_neighborhood_attacks(next_pair[0],next_pair[1], shot_grid)\n",
        "      while len(next_attacks) > 0:\n",
        "        next_attack = next_attacks.pop()\n",
        "        next_row, next_col = next_attack[0], next_attack[1]\n",
        "        if grid[next_row,next_col] != 0:\n",
        "          shot_grid[next_row,next_col] = 2\n",
        "        else:\n",
        "          shot_grid[next_row,next_col] = 1\n",
        "        turns+=1\n",
        "    return (shot_grid, turns)"
      ]
    },
    {
      "cell_type": "markdown",
      "metadata": {
        "id": "mgekdIq73ELo"
      },
      "source": [
        "### Visualizing the performance of the \"Hunt and Target\" strategy"
      ]
    },
    {
      "cell_type": "code",
      "execution_count": null,
      "metadata": {
        "id": "YxnOpj2T3ELo",
        "outputId": "8000f200-a19d-4f01-990b-841c82e3de69",
        "colab": {
          "base_uri": "https://localhost:8080/",
          "height": 325
        }
      },
      "outputs": [
        {
          "output_type": "stream",
          "name": "stdout",
          "text": [
            "Number of turns taken to sink all ships: 74\n"
          ]
        },
        {
          "output_type": "display_data",
          "data": {
            "text/plain": [
              "<Figure size 640x480 with 2 Axes>"
            ],
            "image/png": "[encoded data removed]"
          },
          "metadata": {}
        }
      ],
      "source": [
        "# Example for random firing strategy\n",
        "# rand_disp = create_random_disposition()\n",
        "shot_grid, turns_taken = hunt_and_target_strategy(rand_disp)\n",
        "fig, axs = plt.subplots(1,2)\n",
        "pcm = axs[0].pcolormesh(rand_disp, cmap=ship_placement, edgecolors='k')\n",
        "axs[0].set_aspect(\"equal\")\n",
        "axs[0].set_title(\"Placement\")\n",
        "pcm = axs[1].pcolormesh(shot_grid, cmap=output_strategy, edgecolors='k', vmin = 0, vmax=2)\n",
        "axs[1].set_aspect(\"equal\")\n",
        "axs[1].set_title(\"Strategy output\")\n",
        "cax = axs[1].inset_axes((1.05, 0, 0.08, 1.0))\n",
        "fig.colorbar(pcm, cax=cax, ticks = [0, 1, 2])\n",
        "print(f\"Number of turns taken to sink all ships: {turns_taken}\")"
      ]
    },
    {
      "cell_type": "code",
      "execution_count": null,
      "metadata": {
        "id": "B2ycZofR3ELp"
      },
      "outputs": [],
      "source": [
        "hunt_and_target_n_turns = [hunt_and_target_strategy(game)[1] for game in random_games]"
      ]
    },
    {
      "cell_type": "code",
      "execution_count": null,
      "metadata": {
        "id": "9Mh8FZBQ3ELp",
        "outputId": "c6ed463b-2b06-4832-91e9-9dc066fc5bbe",
        "colab": {
          "base_uri": "https://localhost:8080/",
          "height": 489
        }
      },
      "outputs": [
        {
          "output_type": "execute_result",
          "data": {
            "text/plain": [
              "Text(0.5, 1.0, 'Histogram for Hunt and Target Strategy')"
            ]
          },
          "metadata": {},
          "execution_count": 11
        },
        {
          "output_type": "display_data",
          "data": {
            "text/plain": [
              "<Figure size 640x480 with 1 Axes>"
            ],
            "image/png": "[encoded data removed]"
          },
          "metadata": {}
        }
      ],
      "source": [
        "n_bins = max(set(hunt_and_target_n_turns)) - min(set(hunt_and_target_n_turns))\n",
        "plt.hist(hunt_and_target_n_turns, bins = n_bins)\n",
        "plt.xlabel(\"Number of turns\")\n",
        "plt.ylabel(\"Number of games\")\n",
        "plt.title(\"Histogram for Hunt and Target Strategy\")"
      ]
    },
    {
      "cell_type": "markdown",
      "metadata": {
        "id": "YEuUFgwN3ELp"
      },
      "source": [
        "## An adaptive strategy based on probability and utility maximization (a.k.a Thompson Sampling)"
      ]
    },
    {
      "cell_type": "code",
      "execution_count": null,
      "metadata": {
        "id": "QMaeyESf3ELq"
      },
      "outputs": [],
      "source": [
        "# shot_grid legend\n",
        "#   0 -> unexplored\n",
        "#   1 -> miss\n",
        "#   2 -> previously hit\n",
        "#   3 -> last hit (just one cell per turn in the entire matrix)\n",
        "\n",
        "'''\n",
        "  grid_slice is the slice of the matrix that we want to process (i.e., an array)\n",
        "  ship_size is, indeed, the size of the ship that we are superimposing\n",
        "  starting_cell is either the cell that was processed in hunt, or the hit cell in target\n",
        "  orientation is either \"hor\" or \"ver\"\n",
        "'''\n",
        "def process_grid_slice(shot_grid_slice, posterior_map_slice, ship_size):\n",
        "    if 1 not in shot_grid_slice:    # if no misses in the slice (i.e., the ship can't be in that slice)\n",
        "        for i in range(ship_size):\n",
        "          if shot_grid_slice[i] == 0:\n",
        "            posterior_map_slice[i] += 1\n",
        "\n",
        "def update_posterior(shot_map, sizes, mode=\"hunt\"):\n",
        "    grid_sizes = (len(shot_map), len(shot_map[0]))\n",
        "    rows = grid_sizes[0]\n",
        "    cols = grid_sizes[1]\n",
        "\n",
        "    posterior_map = np.zeros((rows,cols), dtype=int)\n",
        "\n",
        "    for ship_size in sizes:\n",
        "      if mode == \"hunt\":\n",
        "        for i in range(rows):\n",
        "          for j in range(cols):\n",
        "            if j+ship_size <= cols:               # <= because slicing excludes last index\n",
        "              shot_grid_slice = shot_map[i, j:j+ship_size]\n",
        "              posterior_map_slice = posterior_map[i, j:j+ship_size]\n",
        "              process_grid_slice(shot_grid_slice, posterior_map_slice, ship_size)\n",
        "\n",
        "            if i+ship_size <= rows:               # <= because slicing excludes last index\n",
        "              shot_grid_slice = shot_map[i:i+ship_size,j]\n",
        "              posterior_map_slice = posterior_map[i:i+ship_size, j]\n",
        "              process_grid_slice(shot_grid_slice, posterior_map_slice, ship_size)\n",
        "\n",
        "      elif mode == \"target\":\n",
        "        hit_cell = np.where(shot_map==3)\n",
        "        i = hit_cell[0][0]\n",
        "        j = hit_cell[1][0]\n",
        "\n",
        "        for offset in range (0, ship_size):\n",
        "          starting_row = i-offset\n",
        "          if starting_row >= 0 and starting_row+ship_size <= rows:\n",
        "            shot_grid_slice = shot_map[starting_row:starting_row+ship_size, j]\n",
        "            posterior_map_slice = posterior_map[starting_row:starting_row+ship_size, j]\n",
        "            process_grid_slice(shot_grid_slice, posterior_map_slice, ship_size)\n",
        "\n",
        "          starting_col = int(j-offset)\n",
        "          if starting_col >= 0 and starting_col+ship_size <= cols:\n",
        "            shot_grid_slice = shot_map[i, starting_col:starting_col+ship_size]\n",
        "            posterior_map_slice = posterior_map[i, starting_col:starting_col+ship_size]\n",
        "            process_grid_slice(shot_grid_slice, posterior_map_slice, ship_size)\n",
        "\n",
        "    return posterior_map\n",
        "\n",
        "def get_not_sunk_ships(all_ships, grid, shot_map):\n",
        "    sunk_ships = []\n",
        "    hit_indexes = np.argwhere((shot_map==2)|(shot_map==3))\n",
        "    for length in range(1,6):\n",
        "      ship_indexes = np.argwhere(grid==length)\n",
        "\n",
        "      every_ship_cell_is_hit = True\n",
        "\n",
        "      for index in ship_indexes:\n",
        "        if not np.any(np.all(hit_indexes == index, axis=1)):  # Confronto element-wise\n",
        "          every_ship_cell_is_hit = False\n",
        "          break\n",
        "\n",
        "      if every_ship_cell_is_hit:\n",
        "        sunk_ships.append(all_ships[len(all_ships)-length])\n",
        "\n",
        "    not_sunk_ships = all_ships.copy()\n",
        "    if len(sunk_ships) > 0:\n",
        "      for ship in all_ships:\n",
        "        if ship in sunk_ships:\n",
        "          not_sunk_ships.remove(ship)\n",
        "          sunk_ships.remove(ship)\n",
        "\n",
        "    return not_sunk_ships\n",
        "\n",
        "def get_best_coordinates(posterior_map):\n",
        "    # Return the coordinates associated with the most likely location in the posterior map\n",
        "    x,y = np.unravel_index(np.argmax(posterior_map), posterior_map.shape)\n",
        "    return (x, y)\n",
        "\n",
        "def thompson_sampling_strategy(grid):\n",
        "    turns = 0\n",
        "    all_ships = [2,3,3,4,5]\n",
        "    not_sunk_ships = all_ships.copy()\n",
        "    not_sunk_ships_length = len(not_sunk_ships)\n",
        "\n",
        "    mode = \"hunt\"\n",
        "\n",
        "    shot_grid = np.zeros((len(grid),len(grid[0])), dtype=int)\n",
        "\n",
        "    while len(not_sunk_ships) > 0:\n",
        "      posterior_map = update_posterior(shot_grid, not_sunk_ships, mode)\n",
        "      if mode != \"target\":\n",
        "        shot_grid[shot_grid == 3] = 2\n",
        "      x, y = get_best_coordinates(posterior_map)\n",
        "      if grid[x,y] == 0:   # i.e., missed\n",
        "        shot_grid[x,y] = 1\n",
        "      else:\n",
        "        shot_grid[shot_grid == 3] = 2\n",
        "        shot_grid[x,y] = 3\n",
        "        mode = \"target\"\n",
        "      not_sunk_ships = get_not_sunk_ships(all_ships.copy(), grid, shot_grid)\n",
        "      if not_sunk_ships_length != len(not_sunk_ships):\n",
        "        not_sunk_ships_length = len(not_sunk_ships)\n",
        "        mode = \"hunt\"\n",
        "      turns += 1\n",
        "\n",
        "    return (shot_grid, turns)"
      ]
    },
    {
      "cell_type": "code",
      "execution_count": null,
      "metadata": {
        "id": "a-sWhH9S3ELq",
        "outputId": "a18875b1-5fb2-4264-cca3-ab6740a1a2de",
        "colab": {
          "base_uri": "https://localhost:8080/",
          "height": 325
        }
      },
      "outputs": [
        {
          "output_type": "stream",
          "name": "stdout",
          "text": [
            "Number of turns taken to sink all ships: 34\n"
          ]
        },
        {
          "output_type": "display_data",
          "data": {
            "text/plain": [
              "<Figure size 640x480 with 2 Axes>"
            ],
            "image/png": "[encoded data removed]"
          },
          "metadata": {}
        }
      ],
      "source": [
        "# Example for random firing strategy\n",
        "shot_grid, turns_taken = thompson_sampling_strategy(rand_disp)\n",
        "fig, axs = plt.subplots(1,2)\n",
        "pcm = axs[0].pcolormesh(rand_disp, cmap=ship_placement, edgecolors='k')\n",
        "axs[0].set_aspect(\"equal\")\n",
        "axs[0].set_title(\"Placement\")\n",
        "pcm = axs[1].pcolormesh(shot_grid, cmap=output_strategy, edgecolors='k', vmin = 0, vmax=2)\n",
        "axs[1].set_aspect(\"equal\")\n",
        "axs[1].set_title(\"Strategy output\")\n",
        "cax = axs[1].inset_axes((1.05, 0, 0.08, 1.0))\n",
        "fig.colorbar(pcm, cax=cax, ticks = [0, 1, 2])\n",
        "print(f\"Number of turns taken to sink all ships: {turns_taken}\")"
      ]
    },
    {
      "cell_type": "code",
      "execution_count": null,
      "metadata": {
        "id": "P8nKgSAu3ELq",
        "colab": {
          "base_uri": "https://localhost:8080/"
        },
        "outputId": "4ed5e5e6-efff-46bd-cc6e-6c852330a322"
      },
      "outputs": [
        {
          "output_type": "stream",
          "name": "stderr",
          "text": [
            "100%|██████████| 10000/10000 [14:11<00:00, 11.74it/s]\n"
          ]
        }
      ],
      "source": [
        "import multiprocessing\n",
        "from tqdm import tqdm\n",
        "\n",
        "def run_thompson_sampling_strategy(game):\n",
        "\treturn thompson_sampling_strategy(game)[1]\n",
        "\n",
        "with multiprocessing.Pool(8) as pool:\n",
        "\tthompson_sampling_n_turns = list(tqdm(pool.imap(run_thompson_sampling_strategy, random_games), total=len(random_games)))"
      ]
    },
    {
      "cell_type": "code",
      "execution_count": null,
      "metadata": {
        "id": "RznXogdM3ELq",
        "colab": {
          "base_uri": "https://localhost:8080/",
          "height": 489
        },
        "outputId": "bac083e7-6f93-4a0b-cad2-309b2563c80b"
      },
      "outputs": [
        {
          "output_type": "execute_result",
          "data": {
            "text/plain": [
              "Text(0.5, 1.0, 'Histogram for Thompson Sampling Strategy')"
            ]
          },
          "metadata": {},
          "execution_count": 15
        },
        {
          "output_type": "display_data",
          "data": {
            "text/plain": [
              "<Figure size 640x480 with 1 Axes>"
            ],
            "image/png": "[encoded data removed]"
          },
          "metadata": {}
        }
      ],
      "source": [
        "n_bins = max(set(thompson_sampling_n_turns)) - min(set(thompson_sampling_n_turns))\n",
        "plt.hist(thompson_sampling_n_turns, bins = n_bins)\n",
        "plt.xlabel(\"Number of turns\")\n",
        "plt.ylabel(\"Number of games\")\n",
        "plt.title(\"Histogram for Thompson Sampling Strategy\")"
      ]
    },
    {
      "cell_type": "markdown",
      "metadata": {
        "id": "58sFzNe43ELr"
      },
      "source": []
    },
    {
      "cell_type": "code",
      "execution_count": null,
      "metadata": {
        "id": "E0NgQ5tg3ELr"
      },
      "outputs": [],
      "source": []
    }
  ],
  "metadata": {
    "kernelspec": {
      "display_name": "tf",
      "language": "python",
      "name": "python3"
    },
    "language_info": {
      "codemirror_mode": {
        "name": "ipython",
        "version": 3
      },
      "file_extension": ".py",
      "mimetype": "text/x-python",
      "name": "python",
      "nbconvert_exporter": "python",
      "pygments_lexer": "ipython3",
      "version": "3.9.18"
    },
    "colab": {
      "provenance": []
    }
  },
  "nbformat": 4,
  "nbformat_minor": 0
}