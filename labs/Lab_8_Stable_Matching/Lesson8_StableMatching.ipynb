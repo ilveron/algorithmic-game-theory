{
  "cells": [
    {
      "cell_type": "markdown",
      "metadata": {
        "id": "v3lchiIY3I--"
      },
      "source": [
        "# Stable marriage problem\n",
        "\n",
        "The stable marriage problem is a classical bipartite matching problem. We have $n$ men and $n$ women and we need to find a good matching between them. </br>\n",
        "In the case of the stable marriage problem, a good matching is a stable matching. That is, a matching M such that no man or woman has an incentive to deviate.</br>\n",
        "The stable matching problem was solved by David Gale and Lloyd Shapley, in 1962 with the following algorithm.\n",
        "\n",
        "**Gale-Shapley Stable Marriage Algorithm**\n",
        "\n",
        "> **while** $\\exists m \\in M$ which is unmatched **do**: </br>\n",
        ">> $w^* \\longleftarrow $ most preferred $w \\in W$ who has not rejected $m$ yet </br>\n",
        ">> **if** $w^*$ is unmatched:\n",
        ">>\n",
        ">>> tentatively match $(m, w^*)$</br>\n",
        ">>\n",
        ">> **else if** $w^*$ is tentatively matched with $m'$:</br>\n",
        ">>\n",
        ">>> $w^*$ rejects the one between $m$ and $m'$ who she likes less and is tentatively matched with the other\n",
        ">>\n",
        "> all tentative matches are made final\n",
        "\n",
        "The Gale-Shapley algorithm has many applications, such as matching patients to kidney donors or matching students to schools. For instance, Gale–Shapley algorithm is currently being applied in New York and Boston public school systems in assigning students to schools.\n",
        "Shapley and Roth won the Nobel prize in 2012 for their contributions to the theory of stable matching. The Gale-Shapley algorithm has been celebrated as the starting point of this discipline and it's been recognised in the motivations for the Nobel prize, which you can read [here](https://www.nobelprize.org/prizes/economic-sciences/2012/press-release/). It's funny that David Gale, who co-authored the original [paper](https://www.jstor.org/stable/2312726) with Shapley, has not been considered by the Nobel commission..."
      ]
    },
    {
      "cell_type": "markdown",
      "metadata": {
        "id": "CSZHwl8e3I_A"
      },
      "source": [
        "We can represent the preferences of both men and women in a dictionary of lists where the order of the elements in the lists is from the most preferred alternative to the least preferred one."
      ]
    },
    {
      "cell_type": "code",
      "execution_count": 40,
      "metadata": {
        "id": "xxL3rlwZ3I_B"
      },
      "outputs": [],
      "source": [
        "men_preferences = {\n",
        "\t'A': ['W', 'X', 'Y', 'Z'],\n",
        "\t'B': ['Y', 'Z', 'W', 'X'],\n",
        "\t'C': ['W', 'X', 'Y', 'Z'],\n",
        "\t'D': ['X', 'Z', 'W', 'Y']\n",
        "}\n",
        "\n",
        "women_preferences = {\n",
        "\t'W': ['B', 'D', 'A', 'C'],\n",
        "\t'X': ['B', 'C', 'D', 'A'],\n",
        "\t'Y': ['A', 'B', 'C', 'D'],\n",
        "\t'Z': ['D', 'B', 'A', 'C']\n",
        "}"
      ]
    },
    {
      "cell_type": "markdown",
      "metadata": {
        "id": "YzJB1Zma3I_B"
      },
      "source": [
        "Let's write a function that implements tha Gale Shapley algorithm"
      ]
    },
    {
      "cell_type": "code",
      "execution_count": 41,
      "metadata": {
        "id": "ClDZsZ843I_B"
      },
      "outputs": [],
      "source": [
        "def gale_shapley(men_preferences, women_preferences):\n",
        "\t\trejections = {}\n",
        "\t\tmatches = {i: None for i in men_preferences.keys()}\n",
        "\t\trejections = {i: [] for i in men_preferences.keys()}\n",
        "\n",
        "\t\t# While there are unmatched men\n",
        "\t\twhile None in matches.values():\n",
        "\t\t\tfor man_to_match, preferences in men_preferences.items():\n",
        "\t\t\t\twhile matches[man_to_match] is None:\n",
        "\t\t\t\t\tmost_preferred_woman = preferences.pop(0)\n",
        "\t\t\t\t\t# If the most preferred woman is unmatched, match her with the man\n",
        "\t\t\t\t\tif most_preferred_woman not in matches.values():\n",
        "\t\t\t\t\t\tmatches[man_to_match] = most_preferred_woman\n",
        "\t\t\t\t\telse:\n",
        "\t\t\t\t\t\tfor matched_man, matched_woman in matches.items():\n",
        "\t\t\t\t\t\t\tif most_preferred_woman == matched_woman:\n",
        "\t\t\t\t\t\t\t\t# If the man to match is preferred by the woman, she rejects the one she's currently matched with.\n",
        "\t\t\t\t\t\t\t\tif women_preferences[most_preferred_woman].index(man_to_match) < women_preferences[most_preferred_woman].index(matched_man):\n",
        "\t\t\t\t\t\t\t\t\tmatches[man_to_match] = most_preferred_woman\n",
        "\t\t\t\t\t\t\t\t\tmatches[matched_man] = None\n",
        "\t\t\t\t\t\t\t\tbreak\n",
        "\t\treturn [m for m in matches.items()]"
      ]
    },
    {
      "cell_type": "code",
      "execution_count": 42,
      "metadata": {
        "colab": {
          "base_uri": "https://localhost:8080/"
        },
        "id": "pBreNCyj3I_C",
        "outputId": "6200936e-e1f1-4332-b36d-3e720f5c53e6"
      },
      "outputs": [
        {
          "output_type": "stream",
          "name": "stdout",
          "text": [
            "[('A', 'W'), ('B', 'Y'), ('C', 'X'), ('D', 'Z')]\n"
          ]
        }
      ],
      "source": [
        "# It should print [('B', 'Y'), ('A', 'W'), ('C', 'X'), ('D', 'Z')]\n",
        "print(gale_shapley(men_preferences, women_preferences))"
      ]
    }
  ],
  "metadata": {
    "kernelspec": {
      "display_name": "Python 3",
      "language": "python",
      "name": "python3"
    },
    "language_info": {
      "codemirror_mode": {
        "name": "ipython",
        "version": 3
      },
      "file_extension": ".py",
      "mimetype": "text/x-python",
      "name": "python",
      "nbconvert_exporter": "python",
      "pygments_lexer": "ipython3",
      "version": "3.12.7"
    },
    "orig_nbformat": 4,
    "colab": {
      "provenance": []
    }
  },
  "nbformat": 4,
  "nbformat_minor": 0
}